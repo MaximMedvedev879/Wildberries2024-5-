{
  "nbformat": 4,
  "nbformat_minor": 0,
  "metadata": {
    "colab": {
      "provenance": []
    },
    "kernelspec": {
      "name": "python3",
      "display_name": "Python 3"
    },
    "language_info": {
      "name": "python"
    }
  },
  "cells": [
    {
      "cell_type": "markdown",
      "source": [
        "ЗАДАНИЕ 1\n",
        "Задание 1.1\n"
      ],
      "metadata": {
        "id": "jYwieDhbGMIq"
      }
    },
    {
      "cell_type": "code",
      "execution_count": 4,
      "metadata": {
        "colab": {
          "base_uri": "https://localhost:8080/"
        },
        "id": "65A6tDgqFRz_",
        "outputId": "6dfcd30e-a5b9-4618-e6bc-c32235a9fc18"
      },
      "outputs": [
        {
          "output_type": "stream",
          "name": "stdout",
          "text": [
            "Mounted at /content/drive\n"
          ]
        }
      ],
      "source": [
        "from google.colab import drive\n",
        "drive.mount('/content/drive')"
      ]
    },
    {
      "cell_type": "code",
      "source": [
        "import pandas as pd\n",
        "\n",
        "data = pd.read_csv('/content/drive/MyDrive/WB/first_homework/shopping_trends.csv')\n",
        "data"
      ],
      "metadata": {
        "colab": {
          "base_uri": "https://localhost:8080/",
          "height": 580
        },
        "id": "NmRF04l5GkSB",
        "outputId": "5cab254f-83db-41f3-902f-d2233759489c"
      },
      "execution_count": 5,
      "outputs": [
        {
          "output_type": "execute_result",
          "data": {
            "text/plain": [
              "      Customer ID  Age  Gender Item Purchased     Category  \\\n",
              "0               1   55    Male         Blouse     Clothing   \n",
              "1               2   19    Male        Sweater     Clothing   \n",
              "2               3   50    Male          Jeans     Clothing   \n",
              "3               4   21    Male        Sandals     Footwear   \n",
              "4               5   45    Male         Blouse     Clothing   \n",
              "...           ...  ...     ...            ...          ...   \n",
              "3895         3896   40  Female         Hoodie     Clothing   \n",
              "3896         3897   52  Female       Backpack  Accessories   \n",
              "3897         3898   46  Female           Belt  Accessories   \n",
              "3898         3899   44  Female          Shoes     Footwear   \n",
              "3899         3900   52  Female        Handbag  Accessories   \n",
              "\n",
              "      Purchase Amount (USD)       Location Size      Color  Season  \\\n",
              "0                        53       Kentucky    L       Gray  Winter   \n",
              "1                        64          Maine    L     Maroon  Winter   \n",
              "2                        73  Massachusetts    S     Maroon  Spring   \n",
              "3                        90   Rhode Island    M     Maroon  Spring   \n",
              "4                        49         Oregon    M  Turquoise  Spring   \n",
              "...                     ...            ...  ...        ...     ...   \n",
              "3895                     28       Virginia    L  Turquoise  Summer   \n",
              "3896                     49           Iowa    L      White  Spring   \n",
              "3897                     33     New Jersey    L      Green  Spring   \n",
              "3898                     77      Minnesota    S      Brown  Summer   \n",
              "3899                     81     California    M      Beige  Spring   \n",
              "\n",
              "      Review Rating Subscription Status Payment Method   Shipping Type  \\\n",
              "0               3.1                 Yes    Credit Card         Express   \n",
              "1               3.1                 Yes  Bank Transfer         Express   \n",
              "2               3.1                 Yes           Cash   Free Shipping   \n",
              "3               3.5                 Yes         PayPal    Next Day Air   \n",
              "4               2.7                 Yes           Cash   Free Shipping   \n",
              "...             ...                 ...            ...             ...   \n",
              "3895            4.2                  No           Cash  2-Day Shipping   \n",
              "3896            4.5                  No         PayPal    Store Pickup   \n",
              "3897            2.9                  No    Credit Card        Standard   \n",
              "3898            3.8                  No         PayPal         Express   \n",
              "3899            3.1                  No  Bank Transfer    Store Pickup   \n",
              "\n",
              "     Discount Applied Promo Code Used  Previous Purchases  \\\n",
              "0                 Yes             Yes                  14   \n",
              "1                 Yes             Yes                   2   \n",
              "2                 Yes             Yes                  23   \n",
              "3                 Yes             Yes                  49   \n",
              "4                 Yes             Yes                  31   \n",
              "...               ...             ...                 ...   \n",
              "3895               No              No                  32   \n",
              "3896               No              No                  41   \n",
              "3897               No              No                  24   \n",
              "3898               No              No                  24   \n",
              "3899               No              No                  33   \n",
              "\n",
              "     Preferred Payment Method Frequency of Purchases  \n",
              "0                       Venmo            Fortnightly  \n",
              "1                        Cash            Fortnightly  \n",
              "2                 Credit Card                 Weekly  \n",
              "3                      PayPal                 Weekly  \n",
              "4                      PayPal               Annually  \n",
              "...                       ...                    ...  \n",
              "3895                    Venmo                 Weekly  \n",
              "3896            Bank Transfer              Bi-Weekly  \n",
              "3897                    Venmo              Quarterly  \n",
              "3898                    Venmo                 Weekly  \n",
              "3899                    Venmo              Quarterly  \n",
              "\n",
              "[3900 rows x 19 columns]"
            ],
            "text/html": [
              "\n",
              "  <div id=\"df-92bd941f-86fc-4b7d-b2a7-2ddd82d74bc8\" class=\"colab-df-container\">\n",
              "    <div>\n",
              "<style scoped>\n",
              "    .dataframe tbody tr th:only-of-type {\n",
              "        vertical-align: middle;\n",
              "    }\n",
              "\n",
              "    .dataframe tbody tr th {\n",
              "        vertical-align: top;\n",
              "    }\n",
              "\n",
              "    .dataframe thead th {\n",
              "        text-align: right;\n",
              "    }\n",
              "</style>\n",
              "<table border=\"1\" class=\"dataframe\">\n",
              "  <thead>\n",
              "    <tr style=\"text-align: right;\">\n",
              "      <th></th>\n",
              "      <th>Customer ID</th>\n",
              "      <th>Age</th>\n",
              "      <th>Gender</th>\n",
              "      <th>Item Purchased</th>\n",
              "      <th>Category</th>\n",
              "      <th>Purchase Amount (USD)</th>\n",
              "      <th>Location</th>\n",
              "      <th>Size</th>\n",
              "      <th>Color</th>\n",
              "      <th>Season</th>\n",
              "      <th>Review Rating</th>\n",
              "      <th>Subscription Status</th>\n",
              "      <th>Payment Method</th>\n",
              "      <th>Shipping Type</th>\n",
              "      <th>Discount Applied</th>\n",
              "      <th>Promo Code Used</th>\n",
              "      <th>Previous Purchases</th>\n",
              "      <th>Preferred Payment Method</th>\n",
              "      <th>Frequency of Purchases</th>\n",
              "    </tr>\n",
              "  </thead>\n",
              "  <tbody>\n",
              "    <tr>\n",
              "      <th>0</th>\n",
              "      <td>1</td>\n",
              "      <td>55</td>\n",
              "      <td>Male</td>\n",
              "      <td>Blouse</td>\n",
              "      <td>Clothing</td>\n",
              "      <td>53</td>\n",
              "      <td>Kentucky</td>\n",
              "      <td>L</td>\n",
              "      <td>Gray</td>\n",
              "      <td>Winter</td>\n",
              "      <td>3.1</td>\n",
              "      <td>Yes</td>\n",
              "      <td>Credit Card</td>\n",
              "      <td>Express</td>\n",
              "      <td>Yes</td>\n",
              "      <td>Yes</td>\n",
              "      <td>14</td>\n",
              "      <td>Venmo</td>\n",
              "      <td>Fortnightly</td>\n",
              "    </tr>\n",
              "    <tr>\n",
              "      <th>1</th>\n",
              "      <td>2</td>\n",
              "      <td>19</td>\n",
              "      <td>Male</td>\n",
              "      <td>Sweater</td>\n",
              "      <td>Clothing</td>\n",
              "      <td>64</td>\n",
              "      <td>Maine</td>\n",
              "      <td>L</td>\n",
              "      <td>Maroon</td>\n",
              "      <td>Winter</td>\n",
              "      <td>3.1</td>\n",
              "      <td>Yes</td>\n",
              "      <td>Bank Transfer</td>\n",
              "      <td>Express</td>\n",
              "      <td>Yes</td>\n",
              "      <td>Yes</td>\n",
              "      <td>2</td>\n",
              "      <td>Cash</td>\n",
              "      <td>Fortnightly</td>\n",
              "    </tr>\n",
              "    <tr>\n",
              "      <th>2</th>\n",
              "      <td>3</td>\n",
              "      <td>50</td>\n",
              "      <td>Male</td>\n",
              "      <td>Jeans</td>\n",
              "      <td>Clothing</td>\n",
              "      <td>73</td>\n",
              "      <td>Massachusetts</td>\n",
              "      <td>S</td>\n",
              "      <td>Maroon</td>\n",
              "      <td>Spring</td>\n",
              "      <td>3.1</td>\n",
              "      <td>Yes</td>\n",
              "      <td>Cash</td>\n",
              "      <td>Free Shipping</td>\n",
              "      <td>Yes</td>\n",
              "      <td>Yes</td>\n",
              "      <td>23</td>\n",
              "      <td>Credit Card</td>\n",
              "      <td>Weekly</td>\n",
              "    </tr>\n",
              "    <tr>\n",
              "      <th>3</th>\n",
              "      <td>4</td>\n",
              "      <td>21</td>\n",
              "      <td>Male</td>\n",
              "      <td>Sandals</td>\n",
              "      <td>Footwear</td>\n",
              "      <td>90</td>\n",
              "      <td>Rhode Island</td>\n",
              "      <td>M</td>\n",
              "      <td>Maroon</td>\n",
              "      <td>Spring</td>\n",
              "      <td>3.5</td>\n",
              "      <td>Yes</td>\n",
              "      <td>PayPal</td>\n",
              "      <td>Next Day Air</td>\n",
              "      <td>Yes</td>\n",
              "      <td>Yes</td>\n",
              "      <td>49</td>\n",
              "      <td>PayPal</td>\n",
              "      <td>Weekly</td>\n",
              "    </tr>\n",
              "    <tr>\n",
              "      <th>4</th>\n",
              "      <td>5</td>\n",
              "      <td>45</td>\n",
              "      <td>Male</td>\n",
              "      <td>Blouse</td>\n",
              "      <td>Clothing</td>\n",
              "      <td>49</td>\n",
              "      <td>Oregon</td>\n",
              "      <td>M</td>\n",
              "      <td>Turquoise</td>\n",
              "      <td>Spring</td>\n",
              "      <td>2.7</td>\n",
              "      <td>Yes</td>\n",
              "      <td>Cash</td>\n",
              "      <td>Free Shipping</td>\n",
              "      <td>Yes</td>\n",
              "      <td>Yes</td>\n",
              "      <td>31</td>\n",
              "      <td>PayPal</td>\n",
              "      <td>Annually</td>\n",
              "    </tr>\n",
              "    <tr>\n",
              "      <th>...</th>\n",
              "      <td>...</td>\n",
              "      <td>...</td>\n",
              "      <td>...</td>\n",
              "      <td>...</td>\n",
              "      <td>...</td>\n",
              "      <td>...</td>\n",
              "      <td>...</td>\n",
              "      <td>...</td>\n",
              "      <td>...</td>\n",
              "      <td>...</td>\n",
              "      <td>...</td>\n",
              "      <td>...</td>\n",
              "      <td>...</td>\n",
              "      <td>...</td>\n",
              "      <td>...</td>\n",
              "      <td>...</td>\n",
              "      <td>...</td>\n",
              "      <td>...</td>\n",
              "      <td>...</td>\n",
              "    </tr>\n",
              "    <tr>\n",
              "      <th>3895</th>\n",
              "      <td>3896</td>\n",
              "      <td>40</td>\n",
              "      <td>Female</td>\n",
              "      <td>Hoodie</td>\n",
              "      <td>Clothing</td>\n",
              "      <td>28</td>\n",
              "      <td>Virginia</td>\n",
              "      <td>L</td>\n",
              "      <td>Turquoise</td>\n",
              "      <td>Summer</td>\n",
              "      <td>4.2</td>\n",
              "      <td>No</td>\n",
              "      <td>Cash</td>\n",
              "      <td>2-Day Shipping</td>\n",
              "      <td>No</td>\n",
              "      <td>No</td>\n",
              "      <td>32</td>\n",
              "      <td>Venmo</td>\n",
              "      <td>Weekly</td>\n",
              "    </tr>\n",
              "    <tr>\n",
              "      <th>3896</th>\n",
              "      <td>3897</td>\n",
              "      <td>52</td>\n",
              "      <td>Female</td>\n",
              "      <td>Backpack</td>\n",
              "      <td>Accessories</td>\n",
              "      <td>49</td>\n",
              "      <td>Iowa</td>\n",
              "      <td>L</td>\n",
              "      <td>White</td>\n",
              "      <td>Spring</td>\n",
              "      <td>4.5</td>\n",
              "      <td>No</td>\n",
              "      <td>PayPal</td>\n",
              "      <td>Store Pickup</td>\n",
              "      <td>No</td>\n",
              "      <td>No</td>\n",
              "      <td>41</td>\n",
              "      <td>Bank Transfer</td>\n",
              "      <td>Bi-Weekly</td>\n",
              "    </tr>\n",
              "    <tr>\n",
              "      <th>3897</th>\n",
              "      <td>3898</td>\n",
              "      <td>46</td>\n",
              "      <td>Female</td>\n",
              "      <td>Belt</td>\n",
              "      <td>Accessories</td>\n",
              "      <td>33</td>\n",
              "      <td>New Jersey</td>\n",
              "      <td>L</td>\n",
              "      <td>Green</td>\n",
              "      <td>Spring</td>\n",
              "      <td>2.9</td>\n",
              "      <td>No</td>\n",
              "      <td>Credit Card</td>\n",
              "      <td>Standard</td>\n",
              "      <td>No</td>\n",
              "      <td>No</td>\n",
              "      <td>24</td>\n",
              "      <td>Venmo</td>\n",
              "      <td>Quarterly</td>\n",
              "    </tr>\n",
              "    <tr>\n",
              "      <th>3898</th>\n",
              "      <td>3899</td>\n",
              "      <td>44</td>\n",
              "      <td>Female</td>\n",
              "      <td>Shoes</td>\n",
              "      <td>Footwear</td>\n",
              "      <td>77</td>\n",
              "      <td>Minnesota</td>\n",
              "      <td>S</td>\n",
              "      <td>Brown</td>\n",
              "      <td>Summer</td>\n",
              "      <td>3.8</td>\n",
              "      <td>No</td>\n",
              "      <td>PayPal</td>\n",
              "      <td>Express</td>\n",
              "      <td>No</td>\n",
              "      <td>No</td>\n",
              "      <td>24</td>\n",
              "      <td>Venmo</td>\n",
              "      <td>Weekly</td>\n",
              "    </tr>\n",
              "    <tr>\n",
              "      <th>3899</th>\n",
              "      <td>3900</td>\n",
              "      <td>52</td>\n",
              "      <td>Female</td>\n",
              "      <td>Handbag</td>\n",
              "      <td>Accessories</td>\n",
              "      <td>81</td>\n",
              "      <td>California</td>\n",
              "      <td>M</td>\n",
              "      <td>Beige</td>\n",
              "      <td>Spring</td>\n",
              "      <td>3.1</td>\n",
              "      <td>No</td>\n",
              "      <td>Bank Transfer</td>\n",
              "      <td>Store Pickup</td>\n",
              "      <td>No</td>\n",
              "      <td>No</td>\n",
              "      <td>33</td>\n",
              "      <td>Venmo</td>\n",
              "      <td>Quarterly</td>\n",
              "    </tr>\n",
              "  </tbody>\n",
              "</table>\n",
              "<p>3900 rows × 19 columns</p>\n",
              "</div>\n",
              "    <div class=\"colab-df-buttons\">\n",
              "\n",
              "  <div class=\"colab-df-container\">\n",
              "    <button class=\"colab-df-convert\" onclick=\"convertToInteractive('df-92bd941f-86fc-4b7d-b2a7-2ddd82d74bc8')\"\n",
              "            title=\"Convert this dataframe to an interactive table.\"\n",
              "            style=\"display:none;\">\n",
              "\n",
              "  <svg xmlns=\"http://www.w3.org/2000/svg\" height=\"24px\" viewBox=\"0 -960 960 960\">\n",
              "    <path d=\"M120-120v-720h720v720H120Zm60-500h600v-160H180v160Zm220 220h160v-160H400v160Zm0 220h160v-160H400v160ZM180-400h160v-160H180v160Zm440 0h160v-160H620v160ZM180-180h160v-160H180v160Zm440 0h160v-160H620v160Z\"/>\n",
              "  </svg>\n",
              "    </button>\n",
              "\n",
              "  <style>\n",
              "    .colab-df-container {\n",
              "      display:flex;\n",
              "      gap: 12px;\n",
              "    }\n",
              "\n",
              "    .colab-df-convert {\n",
              "      background-color: #E8F0FE;\n",
              "      border: none;\n",
              "      border-radius: 50%;\n",
              "      cursor: pointer;\n",
              "      display: none;\n",
              "      fill: #1967D2;\n",
              "      height: 32px;\n",
              "      padding: 0 0 0 0;\n",
              "      width: 32px;\n",
              "    }\n",
              "\n",
              "    .colab-df-convert:hover {\n",
              "      background-color: #E2EBFA;\n",
              "      box-shadow: 0px 1px 2px rgba(60, 64, 67, 0.3), 0px 1px 3px 1px rgba(60, 64, 67, 0.15);\n",
              "      fill: #174EA6;\n",
              "    }\n",
              "\n",
              "    .colab-df-buttons div {\n",
              "      margin-bottom: 4px;\n",
              "    }\n",
              "\n",
              "    [theme=dark] .colab-df-convert {\n",
              "      background-color: #3B4455;\n",
              "      fill: #D2E3FC;\n",
              "    }\n",
              "\n",
              "    [theme=dark] .colab-df-convert:hover {\n",
              "      background-color: #434B5C;\n",
              "      box-shadow: 0px 1px 3px 1px rgba(0, 0, 0, 0.15);\n",
              "      filter: drop-shadow(0px 1px 2px rgba(0, 0, 0, 0.3));\n",
              "      fill: #FFFFFF;\n",
              "    }\n",
              "  </style>\n",
              "\n",
              "    <script>\n",
              "      const buttonEl =\n",
              "        document.querySelector('#df-92bd941f-86fc-4b7d-b2a7-2ddd82d74bc8 button.colab-df-convert');\n",
              "      buttonEl.style.display =\n",
              "        google.colab.kernel.accessAllowed ? 'block' : 'none';\n",
              "\n",
              "      async function convertToInteractive(key) {\n",
              "        const element = document.querySelector('#df-92bd941f-86fc-4b7d-b2a7-2ddd82d74bc8');\n",
              "        const dataTable =\n",
              "          await google.colab.kernel.invokeFunction('convertToInteractive',\n",
              "                                                    [key], {});\n",
              "        if (!dataTable) return;\n",
              "\n",
              "        const docLinkHtml = 'Like what you see? Visit the ' +\n",
              "          '<a target=\"_blank\" href=https://colab.research.google.com/notebooks/data_table.ipynb>data table notebook</a>'\n",
              "          + ' to learn more about interactive tables.';\n",
              "        element.innerHTML = '';\n",
              "        dataTable['output_type'] = 'display_data';\n",
              "        await google.colab.output.renderOutput(dataTable, element);\n",
              "        const docLink = document.createElement('div');\n",
              "        docLink.innerHTML = docLinkHtml;\n",
              "        element.appendChild(docLink);\n",
              "      }\n",
              "    </script>\n",
              "  </div>\n",
              "\n",
              "\n",
              "<div id=\"df-d6daebe2-acbb-410e-a1b0-362c5538fb71\">\n",
              "  <button class=\"colab-df-quickchart\" onclick=\"quickchart('df-d6daebe2-acbb-410e-a1b0-362c5538fb71')\"\n",
              "            title=\"Suggest charts\"\n",
              "            style=\"display:none;\">\n",
              "\n",
              "<svg xmlns=\"http://www.w3.org/2000/svg\" height=\"24px\"viewBox=\"0 0 24 24\"\n",
              "     width=\"24px\">\n",
              "    <g>\n",
              "        <path d=\"M19 3H5c-1.1 0-2 .9-2 2v14c0 1.1.9 2 2 2h14c1.1 0 2-.9 2-2V5c0-1.1-.9-2-2-2zM9 17H7v-7h2v7zm4 0h-2V7h2v10zm4 0h-2v-4h2v4z\"/>\n",
              "    </g>\n",
              "</svg>\n",
              "  </button>\n",
              "\n",
              "<style>\n",
              "  .colab-df-quickchart {\n",
              "      --bg-color: #E8F0FE;\n",
              "      --fill-color: #1967D2;\n",
              "      --hover-bg-color: #E2EBFA;\n",
              "      --hover-fill-color: #174EA6;\n",
              "      --disabled-fill-color: #AAA;\n",
              "      --disabled-bg-color: #DDD;\n",
              "  }\n",
              "\n",
              "  [theme=dark] .colab-df-quickchart {\n",
              "      --bg-color: #3B4455;\n",
              "      --fill-color: #D2E3FC;\n",
              "      --hover-bg-color: #434B5C;\n",
              "      --hover-fill-color: #FFFFFF;\n",
              "      --disabled-bg-color: #3B4455;\n",
              "      --disabled-fill-color: #666;\n",
              "  }\n",
              "\n",
              "  .colab-df-quickchart {\n",
              "    background-color: var(--bg-color);\n",
              "    border: none;\n",
              "    border-radius: 50%;\n",
              "    cursor: pointer;\n",
              "    display: none;\n",
              "    fill: var(--fill-color);\n",
              "    height: 32px;\n",
              "    padding: 0;\n",
              "    width: 32px;\n",
              "  }\n",
              "\n",
              "  .colab-df-quickchart:hover {\n",
              "    background-color: var(--hover-bg-color);\n",
              "    box-shadow: 0 1px 2px rgba(60, 64, 67, 0.3), 0 1px 3px 1px rgba(60, 64, 67, 0.15);\n",
              "    fill: var(--button-hover-fill-color);\n",
              "  }\n",
              "\n",
              "  .colab-df-quickchart-complete:disabled,\n",
              "  .colab-df-quickchart-complete:disabled:hover {\n",
              "    background-color: var(--disabled-bg-color);\n",
              "    fill: var(--disabled-fill-color);\n",
              "    box-shadow: none;\n",
              "  }\n",
              "\n",
              "  .colab-df-spinner {\n",
              "    border: 2px solid var(--fill-color);\n",
              "    border-color: transparent;\n",
              "    border-bottom-color: var(--fill-color);\n",
              "    animation:\n",
              "      spin 1s steps(1) infinite;\n",
              "  }\n",
              "\n",
              "  @keyframes spin {\n",
              "    0% {\n",
              "      border-color: transparent;\n",
              "      border-bottom-color: var(--fill-color);\n",
              "      border-left-color: var(--fill-color);\n",
              "    }\n",
              "    20% {\n",
              "      border-color: transparent;\n",
              "      border-left-color: var(--fill-color);\n",
              "      border-top-color: var(--fill-color);\n",
              "    }\n",
              "    30% {\n",
              "      border-color: transparent;\n",
              "      border-left-color: var(--fill-color);\n",
              "      border-top-color: var(--fill-color);\n",
              "      border-right-color: var(--fill-color);\n",
              "    }\n",
              "    40% {\n",
              "      border-color: transparent;\n",
              "      border-right-color: var(--fill-color);\n",
              "      border-top-color: var(--fill-color);\n",
              "    }\n",
              "    60% {\n",
              "      border-color: transparent;\n",
              "      border-right-color: var(--fill-color);\n",
              "    }\n",
              "    80% {\n",
              "      border-color: transparent;\n",
              "      border-right-color: var(--fill-color);\n",
              "      border-bottom-color: var(--fill-color);\n",
              "    }\n",
              "    90% {\n",
              "      border-color: transparent;\n",
              "      border-bottom-color: var(--fill-color);\n",
              "    }\n",
              "  }\n",
              "</style>\n",
              "\n",
              "  <script>\n",
              "    async function quickchart(key) {\n",
              "      const quickchartButtonEl =\n",
              "        document.querySelector('#' + key + ' button');\n",
              "      quickchartButtonEl.disabled = true;  // To prevent multiple clicks.\n",
              "      quickchartButtonEl.classList.add('colab-df-spinner');\n",
              "      try {\n",
              "        const charts = await google.colab.kernel.invokeFunction(\n",
              "            'suggestCharts', [key], {});\n",
              "      } catch (error) {\n",
              "        console.error('Error during call to suggestCharts:', error);\n",
              "      }\n",
              "      quickchartButtonEl.classList.remove('colab-df-spinner');\n",
              "      quickchartButtonEl.classList.add('colab-df-quickchart-complete');\n",
              "    }\n",
              "    (() => {\n",
              "      let quickchartButtonEl =\n",
              "        document.querySelector('#df-d6daebe2-acbb-410e-a1b0-362c5538fb71 button');\n",
              "      quickchartButtonEl.style.display =\n",
              "        google.colab.kernel.accessAllowed ? 'block' : 'none';\n",
              "    })();\n",
              "  </script>\n",
              "</div>\n",
              "    </div>\n",
              "  </div>\n"
            ],
            "application/vnd.google.colaboratory.intrinsic+json": {
              "type": "dataframe",
              "variable_name": "data",
              "summary": "{\n  \"name\": \"data\",\n  \"rows\": 3900,\n  \"fields\": [\n    {\n      \"column\": \"Customer ID\",\n      \"properties\": {\n        \"dtype\": \"number\",\n        \"std\": 1125,\n        \"min\": 1,\n        \"max\": 3900,\n        \"num_unique_values\": 3900,\n        \"samples\": [\n          840,\n          1718,\n          322\n        ],\n        \"semantic_type\": \"\",\n        \"description\": \"\"\n      }\n    },\n    {\n      \"column\": \"Age\",\n      \"properties\": {\n        \"dtype\": \"number\",\n        \"std\": 15,\n        \"min\": 18,\n        \"max\": 70,\n        \"num_unique_values\": 53,\n        \"samples\": [\n          56,\n          24,\n          51\n        ],\n        \"semantic_type\": \"\",\n        \"description\": \"\"\n      }\n    },\n    {\n      \"column\": \"Gender\",\n      \"properties\": {\n        \"dtype\": \"category\",\n        \"num_unique_values\": 2,\n        \"samples\": [\n          \"Female\",\n          \"Male\"\n        ],\n        \"semantic_type\": \"\",\n        \"description\": \"\"\n      }\n    },\n    {\n      \"column\": \"Item Purchased\",\n      \"properties\": {\n        \"dtype\": \"category\",\n        \"num_unique_values\": 25,\n        \"samples\": [\n          \"Handbag\",\n          \"Jewelry\"\n        ],\n        \"semantic_type\": \"\",\n        \"description\": \"\"\n      }\n    },\n    {\n      \"column\": \"Category\",\n      \"properties\": {\n        \"dtype\": \"category\",\n        \"num_unique_values\": 4,\n        \"samples\": [\n          \"Footwear\",\n          \"Accessories\"\n        ],\n        \"semantic_type\": \"\",\n        \"description\": \"\"\n      }\n    },\n    {\n      \"column\": \"Purchase Amount (USD)\",\n      \"properties\": {\n        \"dtype\": \"number\",\n        \"std\": 23,\n        \"min\": 20,\n        \"max\": 100,\n        \"num_unique_values\": 81,\n        \"samples\": [\n          60,\n          53\n        ],\n        \"semantic_type\": \"\",\n        \"description\": \"\"\n      }\n    },\n    {\n      \"column\": \"Location\",\n      \"properties\": {\n        \"dtype\": \"category\",\n        \"num_unique_values\": 50,\n        \"samples\": [\n          \"New Hampshire\",\n          \"Connecticut\"\n        ],\n        \"semantic_type\": \"\",\n        \"description\": \"\"\n      }\n    },\n    {\n      \"column\": \"Size\",\n      \"properties\": {\n        \"dtype\": \"category\",\n        \"num_unique_values\": 4,\n        \"samples\": [\n          \"S\",\n          \"XL\"\n        ],\n        \"semantic_type\": \"\",\n        \"description\": \"\"\n      }\n    },\n    {\n      \"column\": \"Color\",\n      \"properties\": {\n        \"dtype\": \"category\",\n        \"num_unique_values\": 25,\n        \"samples\": [\n          \"Olive\",\n          \"Red\"\n        ],\n        \"semantic_type\": \"\",\n        \"description\": \"\"\n      }\n    },\n    {\n      \"column\": \"Season\",\n      \"properties\": {\n        \"dtype\": \"category\",\n        \"num_unique_values\": 4,\n        \"samples\": [\n          \"Spring\",\n          \"Fall\"\n        ],\n        \"semantic_type\": \"\",\n        \"description\": \"\"\n      }\n    },\n    {\n      \"column\": \"Review Rating\",\n      \"properties\": {\n        \"dtype\": \"number\",\n        \"std\": 0.7162228139312449,\n        \"min\": 2.5,\n        \"max\": 5.0,\n        \"num_unique_values\": 26,\n        \"samples\": [\n          4.9,\n          5.0\n        ],\n        \"semantic_type\": \"\",\n        \"description\": \"\"\n      }\n    },\n    {\n      \"column\": \"Subscription Status\",\n      \"properties\": {\n        \"dtype\": \"category\",\n        \"num_unique_values\": 2,\n        \"samples\": [\n          \"No\",\n          \"Yes\"\n        ],\n        \"semantic_type\": \"\",\n        \"description\": \"\"\n      }\n    },\n    {\n      \"column\": \"Payment Method\",\n      \"properties\": {\n        \"dtype\": \"category\",\n        \"num_unique_values\": 6,\n        \"samples\": [\n          \"Credit Card\",\n          \"Bank Transfer\"\n        ],\n        \"semantic_type\": \"\",\n        \"description\": \"\"\n      }\n    },\n    {\n      \"column\": \"Shipping Type\",\n      \"properties\": {\n        \"dtype\": \"category\",\n        \"num_unique_values\": 6,\n        \"samples\": [\n          \"Express\",\n          \"Free Shipping\"\n        ],\n        \"semantic_type\": \"\",\n        \"description\": \"\"\n      }\n    },\n    {\n      \"column\": \"Discount Applied\",\n      \"properties\": {\n        \"dtype\": \"category\",\n        \"num_unique_values\": 2,\n        \"samples\": [\n          \"No\",\n          \"Yes\"\n        ],\n        \"semantic_type\": \"\",\n        \"description\": \"\"\n      }\n    },\n    {\n      \"column\": \"Promo Code Used\",\n      \"properties\": {\n        \"dtype\": \"category\",\n        \"num_unique_values\": 2,\n        \"samples\": [\n          \"No\",\n          \"Yes\"\n        ],\n        \"semantic_type\": \"\",\n        \"description\": \"\"\n      }\n    },\n    {\n      \"column\": \"Previous Purchases\",\n      \"properties\": {\n        \"dtype\": \"number\",\n        \"std\": 14,\n        \"min\": 1,\n        \"max\": 50,\n        \"num_unique_values\": 50,\n        \"samples\": [\n          36,\n          47\n        ],\n        \"semantic_type\": \"\",\n        \"description\": \"\"\n      }\n    },\n    {\n      \"column\": \"Preferred Payment Method\",\n      \"properties\": {\n        \"dtype\": \"category\",\n        \"num_unique_values\": 6,\n        \"samples\": [\n          \"Venmo\",\n          \"Cash\"\n        ],\n        \"semantic_type\": \"\",\n        \"description\": \"\"\n      }\n    },\n    {\n      \"column\": \"Frequency of Purchases\",\n      \"properties\": {\n        \"dtype\": \"category\",\n        \"num_unique_values\": 7,\n        \"samples\": [\n          \"Fortnightly\",\n          \"Weekly\"\n        ],\n        \"semantic_type\": \"\",\n        \"description\": \"\"\n      }\n    }\n  ]\n}"
            }
          },
          "metadata": {},
          "execution_count": 5
        }
      ]
    },
    {
      "cell_type": "code",
      "source": [
        "import scipy.stats as stats"
      ],
      "metadata": {
        "id": "dZ7AGLCWHj6l"
      },
      "execution_count": 5,
      "outputs": []
    },
    {
      "cell_type": "markdown",
      "source": [
        "Составим несколько гипотез на основе данных:\n",
        "\n",
        "Гипотеза 1. Женщины старше 40 лет покупают в основном осенью.\n",
        "\n",
        "Гипотеза 2. Размер обуви M (категория Footwear) у мужчин покупается чаще, чем L\n",
        "\n",
        "Гипотеза 3. Гипотеза 3. Покупатели, которые покупают товары дороже 30 долларов, чаще используют промокоды.\n",
        "\n",
        "Гипотеза 4. Покупатели моложе 35 лет совершают покупки на меньшую сумму, чем покупатели старше.\n",
        "\n",
        "Гипотеза 5. Покупатели, которые покупают товары со скидкой, дают оценки выше трёх.\n",
        "\n",
        "Гипотеза 6. Покупатели, которые часто совершают покупки, предпочитают экспресс-доставку.\n",
        "\n",
        "Гипотеза 7. Женщины чаще мужчин покупают товары с категорией clothing.\n",
        "\n",
        "Гипотеза 8. Мужчины из Нью-Йорка покупают черный цвет реже, чем другие цвета"
      ],
      "metadata": {
        "id": "9dXXsEfhL9Bd"
      }
    },
    {
      "cell_type": "markdown",
      "source": [
        "Перейдем к проверке гипотез"
      ],
      "metadata": {
        "id": "bL5TpbVXMTzS"
      }
    },
    {
      "cell_type": "code",
      "source": [
        "# Узнаем размерность иходных данных, назания всех признаков и их тип\n",
        "print(data.shape)\n",
        "data.info()"
      ],
      "metadata": {
        "colab": {
          "base_uri": "https://localhost:8080/"
        },
        "id": "G0MRQe_KPI5b",
        "outputId": "b2e250b9-017e-4815-c904-c697c4ace0c7"
      },
      "execution_count": 10,
      "outputs": [
        {
          "output_type": "stream",
          "name": "stdout",
          "text": [
            "(3900, 19)\n",
            "<class 'pandas.core.frame.DataFrame'>\n",
            "RangeIndex: 3900 entries, 0 to 3899\n",
            "Data columns (total 19 columns):\n",
            " #   Column                    Non-Null Count  Dtype  \n",
            "---  ------                    --------------  -----  \n",
            " 0   Customer ID               3900 non-null   int64  \n",
            " 1   Age                       3900 non-null   int64  \n",
            " 2   Gender                    3900 non-null   object \n",
            " 3   Item Purchased            3900 non-null   object \n",
            " 4   Category                  3900 non-null   object \n",
            " 5   Purchase Amount (USD)     3900 non-null   int64  \n",
            " 6   Location                  3900 non-null   object \n",
            " 7   Size                      3900 non-null   object \n",
            " 8   Color                     3900 non-null   object \n",
            " 9   Season                    3900 non-null   object \n",
            " 10  Review Rating             3900 non-null   float64\n",
            " 11  Subscription Status       3900 non-null   object \n",
            " 12  Payment Method            3900 non-null   object \n",
            " 13  Shipping Type             3900 non-null   object \n",
            " 14  Discount Applied          3900 non-null   object \n",
            " 15  Promo Code Used           3900 non-null   object \n",
            " 16  Previous Purchases        3900 non-null   int64  \n",
            " 17  Preferred Payment Method  3900 non-null   object \n",
            " 18  Frequency of Purchases    3900 non-null   object \n",
            "dtypes: float64(1), int64(4), object(14)\n",
            "memory usage: 579.0+ KB\n"
          ]
        }
      ]
    },
    {
      "cell_type": "code",
      "source": [
        "# Проверка каждого столбца на наличие пропущенных значений\n",
        "for col in data.columns:\n",
        "    print(f'Пропущенные значения в столбце {col}:')\n",
        "    print(data[col].isna().sum())\n",
        "    print()"
      ],
      "metadata": {
        "colab": {
          "base_uri": "https://localhost:8080/"
        },
        "id": "jUlRBFWiMIli",
        "outputId": "d954d2c0-51c5-4fa1-9cfd-e2491c290266"
      },
      "execution_count": 239,
      "outputs": [
        {
          "output_type": "stream",
          "name": "stdout",
          "text": [
            "Пропущенные значения в столбце Customer ID:\n",
            "0\n",
            "\n",
            "Пропущенные значения в столбце Age:\n",
            "0\n",
            "\n",
            "Пропущенные значения в столбце Gender:\n",
            "0\n",
            "\n",
            "Пропущенные значения в столбце Item Purchased:\n",
            "0\n",
            "\n",
            "Пропущенные значения в столбце Category:\n",
            "0\n",
            "\n",
            "Пропущенные значения в столбце Purchase Amount (USD):\n",
            "0\n",
            "\n",
            "Пропущенные значения в столбце Location:\n",
            "0\n",
            "\n",
            "Пропущенные значения в столбце Size:\n",
            "0\n",
            "\n",
            "Пропущенные значения в столбце Color:\n",
            "0\n",
            "\n",
            "Пропущенные значения в столбце Season:\n",
            "0\n",
            "\n",
            "Пропущенные значения в столбце Review Rating:\n",
            "0\n",
            "\n",
            "Пропущенные значения в столбце Subscription Status:\n",
            "0\n",
            "\n",
            "Пропущенные значения в столбце Payment Method:\n",
            "0\n",
            "\n",
            "Пропущенные значения в столбце Shipping Type:\n",
            "0\n",
            "\n",
            "Пропущенные значения в столбце Discount Applied:\n",
            "0\n",
            "\n",
            "Пропущенные значения в столбце Promo Code Used:\n",
            "0\n",
            "\n",
            "Пропущенные значения в столбце Previous Purchases:\n",
            "0\n",
            "\n",
            "Пропущенные значения в столбце Preferred Payment Method:\n",
            "0\n",
            "\n",
            "Пропущенные значения в столбце Frequency of Purchases:\n",
            "0\n",
            "\n"
          ]
        }
      ]
    },
    {
      "cell_type": "markdown",
      "source": [
        "Таким образом, в исходных данных нет пропущенных значений. Теперь перейдём к проверке гипотезы №1: женщины старше 40 лет покупают в основном осенью\n"
      ],
      "metadata": {
        "id": "rl-rMyRKPqbR"
      }
    },
    {
      "cell_type": "code",
      "source": [
        "women_over_40 = data[(data['Gender'] == 'Female') & (data['Age'] > 40)]\n",
        "frequency_of_purchases = women_over_40['Season'].value_counts()\n",
        "print(\"Наиболее часто покупаемый сезон женщинами старше 40 лет:\", frequency_of_purchases.idxmax())"
      ],
      "metadata": {
        "colab": {
          "base_uri": "https://localhost:8080/"
        },
        "id": "06ccbChNPqGL",
        "outputId": "ec43747d-f218-4ce2-a73f-fdcaa9bf4e69"
      },
      "execution_count": 13,
      "outputs": [
        {
          "output_type": "stream",
          "name": "stdout",
          "text": [
            "Наиболее часто покупаемый сезон женщинами старше 40 лет: Spring\n"
          ]
        }
      ]
    },
    {
      "cell_type": "markdown",
      "source": [
        "Таким образом, гипотеза о том, что женщины покупают в основном осенью, не подтвердилась."
      ],
      "metadata": {
        "id": "epPUtZUoQ9Cu"
      }
    },
    {
      "cell_type": "markdown",
      "source": [
        "Гипотеза №2: размер обуви M (категория Footwear) у мужчин покупается чаще, чем L"
      ],
      "metadata": {
        "id": "J1VZ3wlSRI9z"
      }
    },
    {
      "cell_type": "code",
      "source": [
        "footwear_purchases = data[(data['Category'] == 'Footwear') & (data['Gender'] == 'Male')]\n",
        "\n",
        "shoe_sizes = footwear_purchases['Size'].value_counts()\n",
        "\n",
        "hypothesis_result = shoe_sizes['M'] / shoe_sizes.sum() > shoe_sizes['L'] / shoe_sizes.sum()\n",
        "\n",
        "print(f\"мужчины чаще покупают обувь размера M, чем L: {hypothesis_result}\")\n"
      ],
      "metadata": {
        "colab": {
          "base_uri": "https://localhost:8080/"
        },
        "id": "xnoceyq-Yjmt",
        "outputId": "cf299a51-0951-4dad-8baa-51e7ad3eff8f"
      },
      "execution_count": 238,
      "outputs": [
        {
          "output_type": "stream",
          "name": "stdout",
          "text": [
            "мужчины чаще покупают обувь размера M, чем L: True\n"
          ]
        }
      ]
    },
    {
      "cell_type": "markdown",
      "source": [
        "Таким образом, гипотеза о том, что размер обуви M мужчины покупают чаще, чем размер L, верна"
      ],
      "metadata": {
        "id": "W7oTDS_jZS0d"
      }
    },
    {
      "cell_type": "markdown",
      "source": [
        "Гипотеза 3. Покупатели, которые покупают товары дороже 30 долларов, чаще используют промокоды."
      ],
      "metadata": {
        "id": "llgWvUcbRgFf"
      }
    },
    {
      "cell_type": "code",
      "source": [
        "high_priced_purchases = data[data['Purchase Amount (USD)'] > 30]\n",
        "#max_price = max(data['Purchase Amount (USD)'])\n",
        "#max_price\n",
        "frequency_of_promo_code_use = high_priced_purchases['Promo Code Used'].value_counts()\n",
        "print(frequency_of_promo_code_use)\n",
        "print(f'Процент покупателей, использовавших промокоды для покупок дороже 30 USD: {round(frequency_of_promo_code_use.iloc[1] / len(high_priced_purchases)*100, 3)}%')"
      ],
      "metadata": {
        "colab": {
          "base_uri": "https://localhost:8080/"
        },
        "id": "lJLo6-5xRpGA",
        "outputId": "6baa30ff-ea62-4c11-ba96-8adc9c535da3"
      },
      "execution_count": 50,
      "outputs": [
        {
          "output_type": "stream",
          "name": "stdout",
          "text": [
            "Promo Code Used\n",
            "No     1921\n",
            "Yes    1428\n",
            "Name: count, dtype: int64\n",
            "Процент покупателей, использовавших промокоды для покупок дороже 30 USD: 42.64%\n"
          ]
        }
      ]
    },
    {
      "cell_type": "markdown",
      "source": [
        "Таким образом, гипотеза не подтвердилась, так как для покупок дороже 30 USD промокоды используют только 42.64% всех покупателей"
      ],
      "metadata": {
        "id": "l243n4m9TcSy"
      }
    },
    {
      "cell_type": "markdown",
      "source": [
        "**Гипотеза №4:** покупатели моложе 35 лет совершают покупки на меньшую сумму, чем покупатели старше."
      ],
      "metadata": {
        "id": "MrH4DyiGT4MI"
      }
    },
    {
      "cell_type": "code",
      "source": [
        "young_shoppers = data[data['Age'] < 35]\n",
        "older_shoppers = data[data['Age'] >= 35]\n",
        "print(\"Средняя сумма покупок для покупателей моложе 35 лет:\", round(young_shoppers['Purchase Amount (USD)'].mean(), 3))\n",
        "print(\"Средняя сумма покупок для покупателей не моложе 35 лет:\", round(older_shoppers['Purchase Amount (USD)'].mean(), 3))"
      ],
      "metadata": {
        "colab": {
          "base_uri": "https://localhost:8080/"
        },
        "id": "LclyeuYPR0R6",
        "outputId": "7a8ee502-e1c5-4da7-eb3a-d70e6f6c4cfb"
      },
      "execution_count": 33,
      "outputs": [
        {
          "output_type": "stream",
          "name": "stdout",
          "text": [
            "Средняя сумма покупок для покупателей моложе 35 лет: 60.16\n",
            "Средняя сумма покупок для покупателей не моложе 35 лет: 59.58\n"
          ]
        }
      ]
    },
    {
      "cell_type": "markdown",
      "source": [
        "Таким образом, по данным можно сделать вывод о том, что гипотеза о том, что покупатели моложе 35 лет совершают покупки на меньшую сумму, чем покупатели старше, неверная"
      ],
      "metadata": {
        "id": "hfKzuH2NWsBm"
      }
    },
    {
      "cell_type": "code",
      "source": [
        "# Я так понимаю, что в данной домашней работе нам необходимо проверить гипотезы без использования статистических тестов, но мне ради интереса захотелось узнать, какой результат будет при проведении t-test'a\n",
        "# на равенство средних двух групп\n",
        "# H0: средние двух групп равны\n",
        "# Тест проверяется при уровне значимости = 0.05\n",
        "young_shoppers = data[data['Age'] < 35]\n",
        "older_shoppers = data[data['Age'] >= 35]\n",
        "t_test_result = stats.ttest_ind(young_shoppers['Purchase Amount (USD)'], older_shoppers['Purchase Amount (USD)'])\n",
        "print(\"P-значение t-теста на равенство средних сумм покупок для молодых и пожилых покупателей:\", t_test_result.pvalue)"
      ],
      "metadata": {
        "colab": {
          "base_uri": "https://localhost:8080/"
        },
        "id": "CXNWrXwPVEP0",
        "outputId": "6536c2b2-cb69-4ba8-8c1a-7ad703c04d35"
      },
      "execution_count": 34,
      "outputs": [
        {
          "output_type": "stream",
          "name": "stdout",
          "text": [
            "P-значение t-теста на равенство средних сумм покупок для молодых и пожилых покупателей: 0.4766325644940863\n"
          ]
        }
      ]
    },
    {
      "cell_type": "markdown",
      "source": [
        "p-value = 0.4766 > 0.05, поэтому мы не можем отвергнуть нулевую гипотезу о том, что средние двух групп равны. То есть, покупатели моложе и старше 35 лет делают покупки в среднем на одну и ту же сумму."
      ],
      "metadata": {
        "id": "JJViG139YSt7"
      }
    },
    {
      "cell_type": "markdown",
      "source": [
        "**Гипотеза №5:** Покупатели, которые покупают товары со скидкой, дают оценки выше трёх."
      ],
      "metadata": {
        "id": "2NHBqzqPY6kR"
      }
    },
    {
      "cell_type": "code",
      "source": [
        "discounted_purchases = data[data['Discount Applied'] == 'Yes']\n",
        "average_review_rating = discounted_purchases['Review Rating'].mean()\n",
        "print(\"Средний рейтинг обзора для товаров, приобретенных по акции:\", average_review_rating)"
      ],
      "metadata": {
        "colab": {
          "base_uri": "https://localhost:8080/"
        },
        "id": "ImmJWha-V5Bd",
        "outputId": "7a998ef4-ef3f-4fc8-9489-145fac0df030"
      },
      "execution_count": 38,
      "outputs": [
        {
          "output_type": "stream",
          "name": "stdout",
          "text": [
            "Средний рейтинг обзора для товаров, приобретенных по акции: 3.739654144305307\n"
          ]
        }
      ]
    },
    {
      "cell_type": "markdown",
      "source": [
        "Таким образом, гипотеза о том, что покупатели, покупающие товары со скидкой, дают оценки выше трёх, верна\n"
      ],
      "metadata": {
        "id": "apcpYFB4Z3Dv"
      }
    },
    {
      "cell_type": "markdown",
      "source": [
        "**Гипотеза №6:** Покупатели, которые часто совершают покупки, придпочитают экспресс-доставку."
      ],
      "metadata": {
        "id": "Srsh85r2aMU4"
      }
    },
    {
      "cell_type": "code",
      "source": [
        "unique_value_of_frequency = data['Frequency of Purchases'].unique()\n",
        "unique_value_of_frequency"
      ],
      "metadata": {
        "colab": {
          "base_uri": "https://localhost:8080/"
        },
        "id": "OM8itOXtY5cf",
        "outputId": "6972671a-260c-40b6-c3e4-8ba3d13a9509"
      },
      "execution_count": 40,
      "outputs": [
        {
          "output_type": "execute_result",
          "data": {
            "text/plain": [
              "array(['Fortnightly', 'Weekly', 'Annually', 'Quarterly', 'Bi-Weekly',\n",
              "       'Monthly', 'Every 3 Months'], dtype=object)"
            ]
          },
          "metadata": {},
          "execution_count": 40
        }
      ]
    },
    {
      "cell_type": "markdown",
      "source": [
        "Будем считать, что частые покупки - это покупки, совершенные не реже, чем раз в две недели (Fortnightly, Weekly, Bi-Weekly)"
      ],
      "metadata": {
        "id": "3Nyu1emabuxP"
      }
    },
    {
      "cell_type": "code",
      "source": [
        "frequent_shoppers = data[data['Frequency of Purchases'].isin(['Fortnightly', 'Weekly', 'Bi-Weekly'])]\n",
        "frequency_of_express_shipping = frequent_shoppers['Shipping Type'].value_counts()\n",
        "print(frequency_of_express_shipping)\n",
        "print(f'Процент частых покупателей, выбравших экспресс-доставку: {round(frequency_of_express_shipping.iloc[1] / len(frequent_shoppers)*100, 3)}%')"
      ],
      "metadata": {
        "colab": {
          "base_uri": "https://localhost:8080/"
        },
        "id": "I9j3AXB1bPhZ",
        "outputId": "8b286f55-740e-4425-9621-6315ff481383"
      },
      "execution_count": 52,
      "outputs": [
        {
          "output_type": "stream",
          "name": "stdout",
          "text": [
            "Shipping Type\n",
            "Standard          283\n",
            "Express           282\n",
            "Free Shipping     271\n",
            "Next Day Air      269\n",
            "Store Pickup      265\n",
            "2-Day Shipping    258\n",
            "Name: count, dtype: int64\n",
            "Процент частых покупателей, выбравших экспресс-доставку: 17.322%\n"
          ]
        }
      ]
    },
    {
      "cell_type": "markdown",
      "source": [
        "Таким образом, гипотеза о том, что покупатели, которые часто совершают покупки, предпочитают экспресс доставку, неверна"
      ],
      "metadata": {
        "id": "P8ylwO5Vd6ZH"
      }
    },
    {
      "cell_type": "markdown",
      "source": [
        "**Гипотеза 7:** Женщины чаще мужчин покупают товары с категорией clothing."
      ],
      "metadata": {
        "id": "gFfz1n8SeT4o"
      }
    },
    {
      "cell_type": "code",
      "source": [
        "women = data[data['Gender'] == 'Female']\n",
        "frequency_of_clothing_purchases_women = women['Category'].value_counts()\n",
        "print(frequency_of_clothing_purchases_women)\n",
        "print(f'Процент товаров категории \\\"clothing\\\", купленных женщинами: {round(frequency_of_clothing_purchases_women.iloc[0] / len(women)*100, 3)}%')\n",
        "men = data[data['Gender'] == 'Male']\n",
        "frequency_of_clothing_purchases_men = men['Category'].value_counts()\n",
        "print(frequency_of_clothing_purchases_men)\n",
        "print(f'Процент товаров категории \\\"clothing\\\", купленных мужчинами: {round(frequency_of_clothing_purchases_men.iloc[0] / len(men)*100, 3)}%')"
      ],
      "metadata": {
        "colab": {
          "base_uri": "https://localhost:8080/"
        },
        "id": "sgtFxOzecg9z",
        "outputId": "709ae20f-cf4d-4cd8-8a29-f97afa6996cb"
      },
      "execution_count": 57,
      "outputs": [
        {
          "output_type": "stream",
          "name": "stdout",
          "text": [
            "Category\n",
            "Clothing       556\n",
            "Accessories    392\n",
            "Footwear       199\n",
            "Outerwear      101\n",
            "Name: count, dtype: int64\n",
            "Процент товаров категории \"clothing\", купленных женщинами: 44.551%\n",
            "Category\n",
            "Clothing       1181\n",
            "Accessories     848\n",
            "Footwear        400\n",
            "Outerwear       223\n",
            "Name: count, dtype: int64\n",
            "Процент товаров категории \"clothing\", купленных мужчинами: 44.532%\n"
          ]
        }
      ]
    },
    {
      "cell_type": "markdown",
      "source": [
        "Таким образом, гипотеза 7 верна, так как процент покупок у женщин немного больше, чем у мужчин. Но вообще корректнее было бы сделать вывод о том, что в среднем они покупают это с одинаковой частотой"
      ],
      "metadata": {
        "id": "MuJzcBUYf1gm"
      }
    },
    {
      "cell_type": "code",
      "source": [
        "men_women = data['Gender'].value_counts()\n",
        "men_women"
      ],
      "metadata": {
        "colab": {
          "base_uri": "https://localhost:8080/",
          "height": 178
        },
        "id": "0_Lg2jIhed4_",
        "outputId": "854d8104-c261-44ef-f3dc-694defed7b45"
      },
      "execution_count": 68,
      "outputs": [
        {
          "output_type": "execute_result",
          "data": {
            "text/plain": [
              "Gender\n",
              "Male      2652\n",
              "Female    1248\n",
              "Name: count, dtype: int64"
            ],
            "text/html": [
              "<div>\n",
              "<style scoped>\n",
              "    .dataframe tbody tr th:only-of-type {\n",
              "        vertical-align: middle;\n",
              "    }\n",
              "\n",
              "    .dataframe tbody tr th {\n",
              "        vertical-align: top;\n",
              "    }\n",
              "\n",
              "    .dataframe thead th {\n",
              "        text-align: right;\n",
              "    }\n",
              "</style>\n",
              "<table border=\"1\" class=\"dataframe\">\n",
              "  <thead>\n",
              "    <tr style=\"text-align: right;\">\n",
              "      <th></th>\n",
              "      <th>count</th>\n",
              "    </tr>\n",
              "    <tr>\n",
              "      <th>Gender</th>\n",
              "      <th></th>\n",
              "    </tr>\n",
              "  </thead>\n",
              "  <tbody>\n",
              "    <tr>\n",
              "      <th>Male</th>\n",
              "      <td>2652</td>\n",
              "    </tr>\n",
              "    <tr>\n",
              "      <th>Female</th>\n",
              "      <td>1248</td>\n",
              "    </tr>\n",
              "  </tbody>\n",
              "</table>\n",
              "</div><br><label><b>dtype:</b> int64</label>"
            ]
          },
          "metadata": {},
          "execution_count": 68
        }
      ]
    },
    {
      "cell_type": "markdown",
      "source": [
        "Предыдущую гипотезу можно было бы проверять через отношение покупок у женщин к покупкам у мужчин, но, так как мужчин больше женщин (показано выше), то так делать некорректно"
      ],
      "metadata": {
        "id": "ibpHysVrhDrN"
      }
    },
    {
      "cell_type": "markdown",
      "source": [
        "**Гипотеза 8:** мужчины из Нью-Йорка покупают черный цвет реже, чем другие цвета"
      ],
      "metadata": {
        "id": "aMAhGJP0iVcd"
      }
    },
    {
      "cell_type": "code",
      "source": [
        "men_in_new_york = data[(data['Gender'] == 'Male') & (data['Location'] == 'New York')]\n",
        "black_color_purchases = men_in_new_york['Color'].value_counts().reset_index()\n",
        "#print(black_color_purchases)\n",
        "for color, val in zip(black_color_purchases['Color'], black_color_purchases['count']):\n",
        "  print(f'Процент мужчин из Нью-Йорка, которые покупают товары {color} цвета: {round(val / len(men_in_new_york)*100, 3)}%')"
      ],
      "metadata": {
        "colab": {
          "base_uri": "https://localhost:8080/"
        },
        "id": "x_9Rmlg4hBF8",
        "outputId": "b8911934-a779-4534-b91b-44e723739fbe"
      },
      "execution_count": 187,
      "outputs": [
        {
          "output_type": "stream",
          "name": "stdout",
          "text": [
            "Процент мужчин из Нью-Йорка, которые покупают товары Teal цвета: 11.29%\n",
            "Процент мужчин из Нью-Йорка, которые покупают товары Charcoal цвета: 9.677%\n",
            "Процент мужчин из Нью-Йорка, которые покупают товары Gray цвета: 8.065%\n",
            "Процент мужчин из Нью-Йорка, которые покупают товары Yellow цвета: 8.065%\n",
            "Процент мужчин из Нью-Йорка, которые покупают товары Red цвета: 6.452%\n",
            "Процент мужчин из Нью-Йорка, которые покупают товары Turquoise цвета: 4.839%\n",
            "Процент мужчин из Нью-Йорка, которые покупают товары Lavender цвета: 4.839%\n",
            "Процент мужчин из Нью-Йорка, которые покупают товары Violet цвета: 4.839%\n",
            "Процент мужчин из Нью-Йорка, которые покупают товары Orange цвета: 4.839%\n",
            "Процент мужчин из Нью-Йорка, которые покупают товары Peach цвета: 4.839%\n",
            "Процент мужчин из Нью-Йорка, которые покупают товары Maroon цвета: 4.839%\n",
            "Процент мужчин из Нью-Йорка, которые покупают товары Brown цвета: 3.226%\n",
            "Процент мужчин из Нью-Йорка, которые покупают товары Purple цвета: 3.226%\n",
            "Процент мужчин из Нью-Йорка, которые покупают товары Indigo цвета: 3.226%\n",
            "Процент мужчин из Нью-Йорка, которые покупают товары Gold цвета: 3.226%\n",
            "Процент мужчин из Нью-Йорка, которые покупают товары Silver цвета: 3.226%\n",
            "Процент мужчин из Нью-Йорка, которые покупают товары Magenta цвета: 3.226%\n",
            "Процент мужчин из Нью-Йорка, которые покупают товары Black цвета: 3.226%\n",
            "Процент мужчин из Нью-Йорка, которые покупают товары Blue цвета: 1.613%\n",
            "Процент мужчин из Нью-Йорка, которые покупают товары Olive цвета: 1.613%\n",
            "Процент мужчин из Нью-Йорка, которые покупают товары Beige цвета: 1.613%\n"
          ]
        }
      ]
    },
    {
      "cell_type": "markdown",
      "source": [
        "Таким образом, из вывода выше следует, что выбор мужчин из Нью-Йорка реже всего падает на цвета Olive и Beige, а не Black. Гипотеза оказалась неверной"
      ],
      "metadata": {
        "id": "Q-Hnme7foLQt"
      }
    },
    {
      "cell_type": "markdown",
      "source": [
        "Задание 1.2\n",
        "\n",
        "1) Найдите самый популярный товар\n",
        "\n",
        "2) Постройте распределение покупателей по полу\n",
        "\n",
        "3) Определите, какой пол (и отдельно возраст) покупает больше всего, чаще всего, самые дорогие товары\n",
        "\n",
        "4) Определите, есть ли зависимость между цветом одежды и сезоном.\n",
        "\n",
        "5) Посчитайте наш сезонный mau (уникальных пользователей за сезон) и его динамику.\n",
        "\n",
        "6) Найдите самую популярную букву в названии одежды."
      ],
      "metadata": {
        "id": "v36eJRJHpru3"
      }
    },
    {
      "cell_type": "markdown",
      "source": [
        "1) Найдем самый популярный товар"
      ],
      "metadata": {
        "id": "fIT0c3jSriBX"
      }
    },
    {
      "cell_type": "code",
      "source": [
        "item_counts = data['Item Purchased'].value_counts()\n",
        "print(\"Самый популярный товар:\", item_counts.index[0])"
      ],
      "metadata": {
        "colab": {
          "base_uri": "https://localhost:8080/"
        },
        "id": "RJyC1Ltxh1AM",
        "outputId": "b473ae4a-ad46-4d10-b594-9c7d9839b9b4"
      },
      "execution_count": 90,
      "outputs": [
        {
          "output_type": "stream",
          "name": "stdout",
          "text": [
            "Самый популярный товар: Blouse\n"
          ]
        }
      ]
    },
    {
      "cell_type": "markdown",
      "source": [
        "2) Построим распределение покупателей по полу"
      ],
      "metadata": {
        "id": "BMR73P3Tr7uh"
      }
    },
    {
      "cell_type": "code",
      "source": [
        "import matplotlib.pyplot as plt\n",
        "\n",
        "gender_counts = data['Gender'].value_counts()\n",
        "\n",
        "# Построение гистограммы\n",
        "plt.bar(gender_counts.index, gender_counts)\n",
        "plt.xlabel('Пол')\n",
        "plt.ylabel('Количество покупателей')\n",
        "plt.title('Распределение покупателей по полу')\n",
        "plt.show()"
      ],
      "metadata": {
        "colab": {
          "base_uri": "https://localhost:8080/",
          "height": 472
        },
        "id": "2wpeT_Tpr-sy",
        "outputId": "96187086-5fbf-4e53-8c34-288538a065dd"
      },
      "execution_count": 93,
      "outputs": [
        {
          "output_type": "display_data",
          "data": {
            "text/plain": [
              "<Figure size 640x480 with 1 Axes>"
            ],
            "image/png": "[encoded data removed]"
          },
          "metadata": {}
        }
      ]
    },
    {
      "cell_type": "markdown",
      "source": [
        "Мужчин чуть больше, чем в 2 раза, больше женщин в исходных данных"
      ],
      "metadata": {
        "id": "cpyYK9ChbfsN"
      }
    },
    {
      "cell_type": "markdown",
      "source": [
        "3) Определим, какой пол (и отдельно возраст) покупает больше всего, чаще всего самые дорогие товары"
      ],
      "metadata": {
        "id": "UTjoMLkxsXtl"
      }
    },
    {
      "cell_type": "code",
      "source": [
        "gender_total_purchases = data.groupby('Gender')['Purchase Amount (USD)'].sum()\n",
        "gender_purchase_counts = data.groupby('Gender')['Purchase Amount (USD)'].count()\n",
        "\n",
        "# пол с наибольшей суммой покупок\n",
        "highest_total_purchases_gender = gender_total_purchases.idxmax()\n",
        "\n",
        "# пол с наибольшим количеством покупок\n",
        "highest_purchase_counts_gender = gender_purchase_counts.idxmax()\n",
        "\n",
        "age_total_purchases = data.groupby(['Age'])['Purchase Amount (USD)'].sum()\n",
        "age_purchases_counts = data.groupby(['Age'])['Purchase Amount (USD)'].count()\n",
        "\n",
        "# возраст с наибольшей суммой покупок\n",
        "highest_total_purchases_age = age_total_purchases.idxmax()\n",
        "\n",
        "# возраст с наибольшим количеством покупок\n",
        "highest_purchase_counts_age = age_purchases_counts.idxmax()\n",
        "\n",
        "print(\"Пол с наибольшей общей суммой покупок:\", highest_total_purchases_gender)\n",
        "print(\"Пол с наибольшим количеством покупок:\", highest_purchase_counts_gender)\n",
        "\n",
        "print(\"Возраст с наибольшей общей суммой покупок:\", highest_total_purchases_age)\n",
        "print(\"Возраст с наибольшим количеством покупок:\", highest_purchase_counts_age)\n"
      ],
      "metadata": {
        "colab": {
          "base_uri": "https://localhost:8080/"
        },
        "id": "Z6IvCQ7JrvLa",
        "outputId": "2e5dd8f5-3c82-4e5c-d157-571d8c1b2920"
      },
      "execution_count": 100,
      "outputs": [
        {
          "output_type": "stream",
          "name": "stdout",
          "text": [
            "Пол с наибольшей общей суммой покупок: Male\n",
            "Пол с наибольшим количеством покупок: Male\n",
            "Возраст с наибольшей общей суммой покупок: 49\n",
            "Возраст с наибольшим количеством покупок: 69\n"
          ]
        }
      ]
    },
    {
      "cell_type": "markdown",
      "source": [
        "5) Определим, есть ли зависимость между цветом одежды и сезоном"
      ],
      "metadata": {
        "id": "YiCqy4dWumKj"
      }
    },
    {
      "cell_type": "code",
      "source": [
        "from sklearn.preprocessing import LabelEncoder\n",
        "\n",
        "tmp = data[['Color', 'Season']]\n",
        "tmp['Color'] = LabelEncoder().fit_transform(tmp['Color'])\n",
        "tmp['Season'] = LabelEncoder().fit_transform(tmp['Season'])\n",
        "tmp.corr()"
      ],
      "metadata": {
        "colab": {
          "base_uri": "https://localhost:8080/",
          "height": 320
        },
        "id": "ezdYe-JTsp9Z",
        "outputId": "b06f089d-9acf-47ee-a3bc-58c7b75deb41"
      },
      "execution_count": 231,
      "outputs": [
        {
          "output_type": "stream",
          "name": "stderr",
          "text": [
            "<ipython-input-231-6dc950821ab8>:5: SettingWithCopyWarning: \n",
            "A value is trying to be set on a copy of a slice from a DataFrame.\n",
            "Try using .loc[row_indexer,col_indexer] = value instead\n",
            "\n",
            "See the caveats in the documentation: https://pandas.pydata.org/pandas-docs/stable/user_guide/indexing.html#returning-a-view-versus-a-copy\n",
            "  tmp['Color'] = LabelEncoder().fit_transform(tmp['Color'])\n",
            "<ipython-input-231-6dc950821ab8>:6: SettingWithCopyWarning: \n",
            "A value is trying to be set on a copy of a slice from a DataFrame.\n",
            "Try using .loc[row_indexer,col_indexer] = value instead\n",
            "\n",
            "See the caveats in the documentation: https://pandas.pydata.org/pandas-docs/stable/user_guide/indexing.html#returning-a-view-versus-a-copy\n",
            "  tmp['Season'] = LabelEncoder().fit_transform(tmp['Season'])\n"
          ]
        },
        {
          "output_type": "execute_result",
          "data": {
            "text/plain": [
              "           Color    Season\n",
              "Color   1.000000 -0.000109\n",
              "Season -0.000109  1.000000"
            ],
            "text/html": [
              "\n",
              "  <div id=\"df-48fd7e53-6ddd-4271-b3c9-aae4173d3127\" class=\"colab-df-container\">\n",
              "    <div>\n",
              "<style scoped>\n",
              "    .dataframe tbody tr th:only-of-type {\n",
              "        vertical-align: middle;\n",
              "    }\n",
              "\n",
              "    .dataframe tbody tr th {\n",
              "        vertical-align: top;\n",
              "    }\n",
              "\n",
              "    .dataframe thead th {\n",
              "        text-align: right;\n",
              "    }\n",
              "</style>\n",
              "<table border=\"1\" class=\"dataframe\">\n",
              "  <thead>\n",
              "    <tr style=\"text-align: right;\">\n",
              "      <th></th>\n",
              "      <th>Color</th>\n",
              "      <th>Season</th>\n",
              "    </tr>\n",
              "  </thead>\n",
              "  <tbody>\n",
              "    <tr>\n",
              "      <th>Color</th>\n",
              "      <td>1.000000</td>\n",
              "      <td>-0.000109</td>\n",
              "    </tr>\n",
              "    <tr>\n",
              "      <th>Season</th>\n",
              "      <td>-0.000109</td>\n",
              "      <td>1.000000</td>\n",
              "    </tr>\n",
              "  </tbody>\n",
              "</table>\n",
              "</div>\n",
              "    <div class=\"colab-df-buttons\">\n",
              "\n",
              "  <div class=\"colab-df-container\">\n",
              "    <button class=\"colab-df-convert\" onclick=\"convertToInteractive('df-48fd7e53-6ddd-4271-b3c9-aae4173d3127')\"\n",
              "            title=\"Convert this dataframe to an interactive table.\"\n",
              "            style=\"display:none;\">\n",
              "\n",
              "  <svg xmlns=\"http://www.w3.org/2000/svg\" height=\"24px\" viewBox=\"0 -960 960 960\">\n",
              "    <path d=\"M120-120v-720h720v720H120Zm60-500h600v-160H180v160Zm220 220h160v-160H400v160Zm0 220h160v-160H400v160ZM180-400h160v-160H180v160Zm440 0h160v-160H620v160ZM180-180h160v-160H180v160Zm440 0h160v-160H620v160Z\"/>\n",
              "  </svg>\n",
              "    </button>\n",
              "\n",
              "  <style>\n",
              "    .colab-df-container {\n",
              "      display:flex;\n",
              "      gap: 12px;\n",
              "    }\n",
              "\n",
              "    .colab-df-convert {\n",
              "      background-color: #E8F0FE;\n",
              "      border: none;\n",
              "      border-radius: 50%;\n",
              "      cursor: pointer;\n",
              "      display: none;\n",
              "      fill: #1967D2;\n",
              "      height: 32px;\n",
              "      padding: 0 0 0 0;\n",
              "      width: 32px;\n",
              "    }\n",
              "\n",
              "    .colab-df-convert:hover {\n",
              "      background-color: #E2EBFA;\n",
              "      box-shadow: 0px 1px 2px rgba(60, 64, 67, 0.3), 0px 1px 3px 1px rgba(60, 64, 67, 0.15);\n",
              "      fill: #174EA6;\n",
              "    }\n",
              "\n",
              "    .colab-df-buttons div {\n",
              "      margin-bottom: 4px;\n",
              "    }\n",
              "\n",
              "    [theme=dark] .colab-df-convert {\n",
              "      background-color: #3B4455;\n",
              "      fill: #D2E3FC;\n",
              "    }\n",
              "\n",
              "    [theme=dark] .colab-df-convert:hover {\n",
              "      background-color: #434B5C;\n",
              "      box-shadow: 0px 1px 3px 1px rgba(0, 0, 0, 0.15);\n",
              "      filter: drop-shadow(0px 1px 2px rgba(0, 0, 0, 0.3));\n",
              "      fill: #FFFFFF;\n",
              "    }\n",
              "  </style>\n",
              "\n",
              "    <script>\n",
              "      const buttonEl =\n",
              "        document.querySelector('#df-48fd7e53-6ddd-4271-b3c9-aae4173d3127 button.colab-df-convert');\n",
              "      buttonEl.style.display =\n",
              "        google.colab.kernel.accessAllowed ? 'block' : 'none';\n",
              "\n",
              "      async function convertToInteractive(key) {\n",
              "        const element = document.querySelector('#df-48fd7e53-6ddd-4271-b3c9-aae4173d3127');\n",
              "        const dataTable =\n",
              "          await google.colab.kernel.invokeFunction('convertToInteractive',\n",
              "                                                    [key], {});\n",
              "        if (!dataTable) return;\n",
              "\n",
              "        const docLinkHtml = 'Like what you see? Visit the ' +\n",
              "          '<a target=\"_blank\" href=https://colab.research.google.com/notebooks/data_table.ipynb>data table notebook</a>'\n",
              "          + ' to learn more about interactive tables.';\n",
              "        element.innerHTML = '';\n",
              "        dataTable['output_type'] = 'display_data';\n",
              "        await google.colab.output.renderOutput(dataTable, element);\n",
              "        const docLink = document.createElement('div');\n",
              "        docLink.innerHTML = docLinkHtml;\n",
              "        element.appendChild(docLink);\n",
              "      }\n",
              "    </script>\n",
              "  </div>\n",
              "\n",
              "\n",
              "<div id=\"df-9d3d8f4a-1ebc-4b88-81f8-b7f9f745fa16\">\n",
              "  <button class=\"colab-df-quickchart\" onclick=\"quickchart('df-9d3d8f4a-1ebc-4b88-81f8-b7f9f745fa16')\"\n",
              "            title=\"Suggest charts\"\n",
              "            style=\"display:none;\">\n",
              "\n",
              "<svg xmlns=\"http://www.w3.org/2000/svg\" height=\"24px\"viewBox=\"0 0 24 24\"\n",
              "     width=\"24px\">\n",
              "    <g>\n",
              "        <path d=\"M19 3H5c-1.1 0-2 .9-2 2v14c0 1.1.9 2 2 2h14c1.1 0 2-.9 2-2V5c0-1.1-.9-2-2-2zM9 17H7v-7h2v7zm4 0h-2V7h2v10zm4 0h-2v-4h2v4z\"/>\n",
              "    </g>\n",
              "</svg>\n",
              "  </button>\n",
              "\n",
              "<style>\n",
              "  .colab-df-quickchart {\n",
              "      --bg-color: #E8F0FE;\n",
              "      --fill-color: #1967D2;\n",
              "      --hover-bg-color: #E2EBFA;\n",
              "      --hover-fill-color: #174EA6;\n",
              "      --disabled-fill-color: #AAA;\n",
              "      --disabled-bg-color: #DDD;\n",
              "  }\n",
              "\n",
              "  [theme=dark] .colab-df-quickchart {\n",
              "      --bg-color: #3B4455;\n",
              "      --fill-color: #D2E3FC;\n",
              "      --hover-bg-color: #434B5C;\n",
              "      --hover-fill-color: #FFFFFF;\n",
              "      --disabled-bg-color: #3B4455;\n",
              "      --disabled-fill-color: #666;\n",
              "  }\n",
              "\n",
              "  .colab-df-quickchart {\n",
              "    background-color: var(--bg-color);\n",
              "    border: none;\n",
              "    border-radius: 50%;\n",
              "    cursor: pointer;\n",
              "    display: none;\n",
              "    fill: var(--fill-color);\n",
              "    height: 32px;\n",
              "    padding: 0;\n",
              "    width: 32px;\n",
              "  }\n",
              "\n",
              "  .colab-df-quickchart:hover {\n",
              "    background-color: var(--hover-bg-color);\n",
              "    box-shadow: 0 1px 2px rgba(60, 64, 67, 0.3), 0 1px 3px 1px rgba(60, 64, 67, 0.15);\n",
              "    fill: var(--button-hover-fill-color);\n",
              "  }\n",
              "\n",
              "  .colab-df-quickchart-complete:disabled,\n",
              "  .colab-df-quickchart-complete:disabled:hover {\n",
              "    background-color: var(--disabled-bg-color);\n",
              "    fill: var(--disabled-fill-color);\n",
              "    box-shadow: none;\n",
              "  }\n",
              "\n",
              "  .colab-df-spinner {\n",
              "    border: 2px solid var(--fill-color);\n",
              "    border-color: transparent;\n",
              "    border-bottom-color: var(--fill-color);\n",
              "    animation:\n",
              "      spin 1s steps(1) infinite;\n",
              "  }\n",
              "\n",
              "  @keyframes spin {\n",
              "    0% {\n",
              "      border-color: transparent;\n",
              "      border-bottom-color: var(--fill-color);\n",
              "      border-left-color: var(--fill-color);\n",
              "    }\n",
              "    20% {\n",
              "      border-color: transparent;\n",
              "      border-left-color: var(--fill-color);\n",
              "      border-top-color: var(--fill-color);\n",
              "    }\n",
              "    30% {\n",
              "      border-color: transparent;\n",
              "      border-left-color: var(--fill-color);\n",
              "      border-top-color: var(--fill-color);\n",
              "      border-right-color: var(--fill-color);\n",
              "    }\n",
              "    40% {\n",
              "      border-color: transparent;\n",
              "      border-right-color: var(--fill-color);\n",
              "      border-top-color: var(--fill-color);\n",
              "    }\n",
              "    60% {\n",
              "      border-color: transparent;\n",
              "      border-right-color: var(--fill-color);\n",
              "    }\n",
              "    80% {\n",
              "      border-color: transparent;\n",
              "      border-right-color: var(--fill-color);\n",
              "      border-bottom-color: var(--fill-color);\n",
              "    }\n",
              "    90% {\n",
              "      border-color: transparent;\n",
              "      border-bottom-color: var(--fill-color);\n",
              "    }\n",
              "  }\n",
              "</style>\n",
              "\n",
              "  <script>\n",
              "    async function quickchart(key) {\n",
              "      const quickchartButtonEl =\n",
              "        document.querySelector('#' + key + ' button');\n",
              "      quickchartButtonEl.disabled = true;  // To prevent multiple clicks.\n",
              "      quickchartButtonEl.classList.add('colab-df-spinner');\n",
              "      try {\n",
              "        const charts = await google.colab.kernel.invokeFunction(\n",
              "            'suggestCharts', [key], {});\n",
              "      } catch (error) {\n",
              "        console.error('Error during call to suggestCharts:', error);\n",
              "      }\n",
              "      quickchartButtonEl.classList.remove('colab-df-spinner');\n",
              "      quickchartButtonEl.classList.add('colab-df-quickchart-complete');\n",
              "    }\n",
              "    (() => {\n",
              "      let quickchartButtonEl =\n",
              "        document.querySelector('#df-9d3d8f4a-1ebc-4b88-81f8-b7f9f745fa16 button');\n",
              "      quickchartButtonEl.style.display =\n",
              "        google.colab.kernel.accessAllowed ? 'block' : 'none';\n",
              "    })();\n",
              "  </script>\n",
              "</div>\n",
              "    </div>\n",
              "  </div>\n"
            ],
            "application/vnd.google.colaboratory.intrinsic+json": {
              "type": "dataframe",
              "summary": "{\n  \"name\": \"tmp\",\n  \"rows\": 2,\n  \"fields\": [\n    {\n      \"column\": \"Color\",\n      \"properties\": {\n        \"dtype\": \"number\",\n        \"std\": 0.7071839780128578,\n        \"min\": -0.00010917279874006566,\n        \"max\": 1.0,\n        \"num_unique_values\": 2,\n        \"samples\": [\n          -0.00010917279874006566,\n          1.0\n        ],\n        \"semantic_type\": \"\",\n        \"description\": \"\"\n      }\n    },\n    {\n      \"column\": \"Season\",\n      \"properties\": {\n        \"dtype\": \"number\",\n        \"std\": 0.7071839780128578,\n        \"min\": -0.00010917279874006566,\n        \"max\": 1.0,\n        \"num_unique_values\": 2,\n        \"samples\": [\n          1.0,\n          -0.00010917279874006566\n        ],\n        \"semantic_type\": \"\",\n        \"description\": \"\"\n      }\n    }\n  ]\n}"
            }
          },
          "metadata": {},
          "execution_count": 231
        }
      ]
    },
    {
      "cell_type": "markdown",
      "source": [
        "Таким образом, линейной зависимости нет между цветами одежды и сезоном"
      ],
      "metadata": {
        "id": "WOv46ByJW_-B"
      }
    },
    {
      "cell_type": "markdown",
      "source": [
        "5) Посчитаем сезонный mau (уникальные пользователи за сезон) и его динамику"
      ],
      "metadata": {
        "id": "Mjf2ln0uvVX9"
      }
    },
    {
      "cell_type": "code",
      "source": [
        "# Сгруппируем по сезону и посчитаем количество уникальных покупателей\n",
        "season_mau = data.groupby('Season')['Customer ID'].nunique()\n",
        "\n",
        "# Построим график динамики сезонного mau\n",
        "plt.plot(season_mau.index, season_mau)\n",
        "plt.xlabel('Сезон')\n",
        "plt.ylabel('Количество уникальных покупателей')\n",
        "plt.title('Динамика сезонного mau')\n",
        "plt.grid()\n",
        "plt.show()"
      ],
      "metadata": {
        "colab": {
          "base_uri": "https://localhost:8080/",
          "height": 472
        },
        "id": "bbShJnmjunTm",
        "outputId": "f98cc966-b63d-48f6-8b94-3db4348ca8b9"
      },
      "execution_count": 105,
      "outputs": [
        {
          "output_type": "display_data",
          "data": {
            "text/plain": [
              "<Figure size 640x480 with 1 Axes>"
            ],
            "image/png": "[encoded data removed]"
          },
          "metadata": {}
        }
      ]
    },
    {
      "cell_type": "markdown",
      "source": [
        "максимальное количество уникальных покупателей было весной, а минимальное - летом"
      ],
      "metadata": {
        "id": "KXLs0tIvbsOJ"
      }
    },
    {
      "cell_type": "markdown",
      "source": [
        "6) Найдём самую популярную букву в названии одежды"
      ],
      "metadata": {
        "id": "AFfJ50BTvfXp"
      }
    },
    {
      "cell_type": "code",
      "source": [
        "item_names = data['Item Purchased']\n",
        "all_item_names = ' '.join(item_names).lower()\n",
        "# Посчитаем количество вхождений каждой буквы алфавита во всех названиях одежды\n",
        "letter_counts = {}\n",
        "for letter in 'abcdefghijklmnopqrstuvwxyz':\n",
        "    letter_counts[letter] = all_item_names.count(letter)\n",
        "\n",
        "# Найдем букву с наибольшим количеством вхождений\n",
        "most_popular_letter = max(letter_counts, key=letter_counts.get)\n",
        "\n",
        "print(\"Самая популярная буква в названиях одежды:\", most_popular_letter)\n",
        "\n"
      ],
      "metadata": {
        "colab": {
          "base_uri": "https://localhost:8080/"
        },
        "id": "F4We_qbPu56n",
        "outputId": "9907ab04-c2f0-4e9d-d57a-c6b9fac7ea81"
      },
      "execution_count": 118,
      "outputs": [
        {
          "output_type": "stream",
          "name": "stdout",
          "text": [
            "Самая популярная буква в названиях одежды: s\n"
          ]
        }
      ]
    },
    {
      "cell_type": "markdown",
      "source": [
        "ЗАДАНИЕ 2. Изучить, где же люди пьют больше вина, пива и других спиртных напитков."
      ],
      "metadata": {
        "id": "N0WfBESLzq6k"
      }
    },
    {
      "cell_type": "code",
      "source": [
        "drinks_data = pd.read_csv('/content/drive/MyDrive/WB/first_homework/drinks.csv')\n",
        "drinks_data"
      ],
      "metadata": {
        "colab": {
          "base_uri": "https://localhost:8080/",
          "height": 424
        },
        "id": "2QRhuw6UvSuT",
        "outputId": "dd776402-ed51-4593-d3e5-38d34474863a"
      },
      "execution_count": 6,
      "outputs": [
        {
          "output_type": "execute_result",
          "data": {
            "text/plain": [
              "         country  beer_servings  spirit_servings  wine_servings  \\\n",
              "0    Afghanistan              0                0              0   \n",
              "1        Albania             89              132             54   \n",
              "2        Algeria             25                0             14   \n",
              "3        Andorra            245              138            312   \n",
              "4         Angola            217               57             45   \n",
              "..           ...            ...              ...            ...   \n",
              "188    Venezuela            333              100              3   \n",
              "189      Vietnam            111                2              1   \n",
              "190        Yemen              6                0              0   \n",
              "191       Zambia             32               19              4   \n",
              "192     Zimbabwe             64               18              4   \n",
              "\n",
              "     total_litres_of_pure_alcohol  \n",
              "0                             0.0  \n",
              "1                             4.9  \n",
              "2                             0.7  \n",
              "3                            12.4  \n",
              "4                             5.9  \n",
              "..                            ...  \n",
              "188                           7.7  \n",
              "189                           2.0  \n",
              "190                           0.1  \n",
              "191                           2.5  \n",
              "192                           4.7  \n",
              "\n",
              "[193 rows x 5 columns]"
            ],
            "text/html": [
              "\n",
              "  <div id=\"df-8fb1bc24-3f96-4301-b0e9-453fc2e8b1ac\" class=\"colab-df-container\">\n",
              "    <div>\n",
              "<style scoped>\n",
              "    .dataframe tbody tr th:only-of-type {\n",
              "        vertical-align: middle;\n",
              "    }\n",
              "\n",
              "    .dataframe tbody tr th {\n",
              "        vertical-align: top;\n",
              "    }\n",
              "\n",
              "    .dataframe thead th {\n",
              "        text-align: right;\n",
              "    }\n",
              "</style>\n",
              "<table border=\"1\" class=\"dataframe\">\n",
              "  <thead>\n",
              "    <tr style=\"text-align: right;\">\n",
              "      <th></th>\n",
              "      <th>country</th>\n",
              "      <th>beer_servings</th>\n",
              "      <th>spirit_servings</th>\n",
              "      <th>wine_servings</th>\n",
              "      <th>total_litres_of_pure_alcohol</th>\n",
              "    </tr>\n",
              "  </thead>\n",
              "  <tbody>\n",
              "    <tr>\n",
              "      <th>0</th>\n",
              "      <td>Afghanistan</td>\n",
              "      <td>0</td>\n",
              "      <td>0</td>\n",
              "      <td>0</td>\n",
              "      <td>0.0</td>\n",
              "    </tr>\n",
              "    <tr>\n",
              "      <th>1</th>\n",
              "      <td>Albania</td>\n",
              "      <td>89</td>\n",
              "      <td>132</td>\n",
              "      <td>54</td>\n",
              "      <td>4.9</td>\n",
              "    </tr>\n",
              "    <tr>\n",
              "      <th>2</th>\n",
              "      <td>Algeria</td>\n",
              "      <td>25</td>\n",
              "      <td>0</td>\n",
              "      <td>14</td>\n",
              "      <td>0.7</td>\n",
              "    </tr>\n",
              "    <tr>\n",
              "      <th>3</th>\n",
              "      <td>Andorra</td>\n",
              "      <td>245</td>\n",
              "      <td>138</td>\n",
              "      <td>312</td>\n",
              "      <td>12.4</td>\n",
              "    </tr>\n",
              "    <tr>\n",
              "      <th>4</th>\n",
              "      <td>Angola</td>\n",
              "      <td>217</td>\n",
              "      <td>57</td>\n",
              "      <td>45</td>\n",
              "      <td>5.9</td>\n",
              "    </tr>\n",
              "    <tr>\n",
              "      <th>...</th>\n",
              "      <td>...</td>\n",
              "      <td>...</td>\n",
              "      <td>...</td>\n",
              "      <td>...</td>\n",
              "      <td>...</td>\n",
              "    </tr>\n",
              "    <tr>\n",
              "      <th>188</th>\n",
              "      <td>Venezuela</td>\n",
              "      <td>333</td>\n",
              "      <td>100</td>\n",
              "      <td>3</td>\n",
              "      <td>7.7</td>\n",
              "    </tr>\n",
              "    <tr>\n",
              "      <th>189</th>\n",
              "      <td>Vietnam</td>\n",
              "      <td>111</td>\n",
              "      <td>2</td>\n",
              "      <td>1</td>\n",
              "      <td>2.0</td>\n",
              "    </tr>\n",
              "    <tr>\n",
              "      <th>190</th>\n",
              "      <td>Yemen</td>\n",
              "      <td>6</td>\n",
              "      <td>0</td>\n",
              "      <td>0</td>\n",
              "      <td>0.1</td>\n",
              "    </tr>\n",
              "    <tr>\n",
              "      <th>191</th>\n",
              "      <td>Zambia</td>\n",
              "      <td>32</td>\n",
              "      <td>19</td>\n",
              "      <td>4</td>\n",
              "      <td>2.5</td>\n",
              "    </tr>\n",
              "    <tr>\n",
              "      <th>192</th>\n",
              "      <td>Zimbabwe</td>\n",
              "      <td>64</td>\n",
              "      <td>18</td>\n",
              "      <td>4</td>\n",
              "      <td>4.7</td>\n",
              "    </tr>\n",
              "  </tbody>\n",
              "</table>\n",
              "<p>193 rows × 5 columns</p>\n",
              "</div>\n",
              "    <div class=\"colab-df-buttons\">\n",
              "\n",
              "  <div class=\"colab-df-container\">\n",
              "    <button class=\"colab-df-convert\" onclick=\"convertToInteractive('df-8fb1bc24-3f96-4301-b0e9-453fc2e8b1ac')\"\n",
              "            title=\"Convert this dataframe to an interactive table.\"\n",
              "            style=\"display:none;\">\n",
              "\n",
              "  <svg xmlns=\"http://www.w3.org/2000/svg\" height=\"24px\" viewBox=\"0 -960 960 960\">\n",
              "    <path d=\"M120-120v-720h720v720H120Zm60-500h600v-160H180v160Zm220 220h160v-160H400v160Zm0 220h160v-160H400v160ZM180-400h160v-160H180v160Zm440 0h160v-160H620v160ZM180-180h160v-160H180v160Zm440 0h160v-160H620v160Z\"/>\n",
              "  </svg>\n",
              "    </button>\n",
              "\n",
              "  <style>\n",
              "    .colab-df-container {\n",
              "      display:flex;\n",
              "      gap: 12px;\n",
              "    }\n",
              "\n",
              "    .colab-df-convert {\n",
              "      background-color: #E8F0FE;\n",
              "      border: none;\n",
              "      border-radius: 50%;\n",
              "      cursor: pointer;\n",
              "      display: none;\n",
              "      fill: #1967D2;\n",
              "      height: 32px;\n",
              "      padding: 0 0 0 0;\n",
              "      width: 32px;\n",
              "    }\n",
              "\n",
              "    .colab-df-convert:hover {\n",
              "      background-color: #E2EBFA;\n",
              "      box-shadow: 0px 1px 2px rgba(60, 64, 67, 0.3), 0px 1px 3px 1px rgba(60, 64, 67, 0.15);\n",
              "      fill: #174EA6;\n",
              "    }\n",
              "\n",
              "    .colab-df-buttons div {\n",
              "      margin-bottom: 4px;\n",
              "    }\n",
              "\n",
              "    [theme=dark] .colab-df-convert {\n",
              "      background-color: #3B4455;\n",
              "      fill: #D2E3FC;\n",
              "    }\n",
              "\n",
              "    [theme=dark] .colab-df-convert:hover {\n",
              "      background-color: #434B5C;\n",
              "      box-shadow: 0px 1px 3px 1px rgba(0, 0, 0, 0.15);\n",
              "      filter: drop-shadow(0px 1px 2px rgba(0, 0, 0, 0.3));\n",
              "      fill: #FFFFFF;\n",
              "    }\n",
              "  </style>\n",
              "\n",
              "    <script>\n",
              "      const buttonEl =\n",
              "        document.querySelector('#df-8fb1bc24-3f96-4301-b0e9-453fc2e8b1ac button.colab-df-convert');\n",
              "      buttonEl.style.display =\n",
              "        google.colab.kernel.accessAllowed ? 'block' : 'none';\n",
              "\n",
              "      async function convertToInteractive(key) {\n",
              "        const element = document.querySelector('#df-8fb1bc24-3f96-4301-b0e9-453fc2e8b1ac');\n",
              "        const dataTable =\n",
              "          await google.colab.kernel.invokeFunction('convertToInteractive',\n",
              "                                                    [key], {});\n",
              "        if (!dataTable) return;\n",
              "\n",
              "        const docLinkHtml = 'Like what you see? Visit the ' +\n",
              "          '<a target=\"_blank\" href=https://colab.research.google.com/notebooks/data_table.ipynb>data table notebook</a>'\n",
              "          + ' to learn more about interactive tables.';\n",
              "        element.innerHTML = '';\n",
              "        dataTable['output_type'] = 'display_data';\n",
              "        await google.colab.output.renderOutput(dataTable, element);\n",
              "        const docLink = document.createElement('div');\n",
              "        docLink.innerHTML = docLinkHtml;\n",
              "        element.appendChild(docLink);\n",
              "      }\n",
              "    </script>\n",
              "  </div>\n",
              "\n",
              "\n",
              "<div id=\"df-a8329c9b-ce24-4a35-b2ab-5e75f9a7fb0d\">\n",
              "  <button class=\"colab-df-quickchart\" onclick=\"quickchart('df-a8329c9b-ce24-4a35-b2ab-5e75f9a7fb0d')\"\n",
              "            title=\"Suggest charts\"\n",
              "            style=\"display:none;\">\n",
              "\n",
              "<svg xmlns=\"http://www.w3.org/2000/svg\" height=\"24px\"viewBox=\"0 0 24 24\"\n",
              "     width=\"24px\">\n",
              "    <g>\n",
              "        <path d=\"M19 3H5c-1.1 0-2 .9-2 2v14c0 1.1.9 2 2 2h14c1.1 0 2-.9 2-2V5c0-1.1-.9-2-2-2zM9 17H7v-7h2v7zm4 0h-2V7h2v10zm4 0h-2v-4h2v4z\"/>\n",
              "    </g>\n",
              "</svg>\n",
              "  </button>\n",
              "\n",
              "<style>\n",
              "  .colab-df-quickchart {\n",
              "      --bg-color: #E8F0FE;\n",
              "      --fill-color: #1967D2;\n",
              "      --hover-bg-color: #E2EBFA;\n",
              "      --hover-fill-color: #174EA6;\n",
              "      --disabled-fill-color: #AAA;\n",
              "      --disabled-bg-color: #DDD;\n",
              "  }\n",
              "\n",
              "  [theme=dark] .colab-df-quickchart {\n",
              "      --bg-color: #3B4455;\n",
              "      --fill-color: #D2E3FC;\n",
              "      --hover-bg-color: #434B5C;\n",
              "      --hover-fill-color: #FFFFFF;\n",
              "      --disabled-bg-color: #3B4455;\n",
              "      --disabled-fill-color: #666;\n",
              "  }\n",
              "\n",
              "  .colab-df-quickchart {\n",
              "    background-color: var(--bg-color);\n",
              "    border: none;\n",
              "    border-radius: 50%;\n",
              "    cursor: pointer;\n",
              "    display: none;\n",
              "    fill: var(--fill-color);\n",
              "    height: 32px;\n",
              "    padding: 0;\n",
              "    width: 32px;\n",
              "  }\n",
              "\n",
              "  .colab-df-quickchart:hover {\n",
              "    background-color: var(--hover-bg-color);\n",
              "    box-shadow: 0 1px 2px rgba(60, 64, 67, 0.3), 0 1px 3px 1px rgba(60, 64, 67, 0.15);\n",
              "    fill: var(--button-hover-fill-color);\n",
              "  }\n",
              "\n",
              "  .colab-df-quickchart-complete:disabled,\n",
              "  .colab-df-quickchart-complete:disabled:hover {\n",
              "    background-color: var(--disabled-bg-color);\n",
              "    fill: var(--disabled-fill-color);\n",
              "    box-shadow: none;\n",
              "  }\n",
              "\n",
              "  .colab-df-spinner {\n",
              "    border: 2px solid var(--fill-color);\n",
              "    border-color: transparent;\n",
              "    border-bottom-color: var(--fill-color);\n",
              "    animation:\n",
              "      spin 1s steps(1) infinite;\n",
              "  }\n",
              "\n",
              "  @keyframes spin {\n",
              "    0% {\n",
              "      border-color: transparent;\n",
              "      border-bottom-color: var(--fill-color);\n",
              "      border-left-color: var(--fill-color);\n",
              "    }\n",
              "    20% {\n",
              "      border-color: transparent;\n",
              "      border-left-color: var(--fill-color);\n",
              "      border-top-color: var(--fill-color);\n",
              "    }\n",
              "    30% {\n",
              "      border-color: transparent;\n",
              "      border-left-color: var(--fill-color);\n",
              "      border-top-color: var(--fill-color);\n",
              "      border-right-color: var(--fill-color);\n",
              "    }\n",
              "    40% {\n",
              "      border-color: transparent;\n",
              "      border-right-color: var(--fill-color);\n",
              "      border-top-color: var(--fill-color);\n",
              "    }\n",
              "    60% {\n",
              "      border-color: transparent;\n",
              "      border-right-color: var(--fill-color);\n",
              "    }\n",
              "    80% {\n",
              "      border-color: transparent;\n",
              "      border-right-color: var(--fill-color);\n",
              "      border-bottom-color: var(--fill-color);\n",
              "    }\n",
              "    90% {\n",
              "      border-color: transparent;\n",
              "      border-bottom-color: var(--fill-color);\n",
              "    }\n",
              "  }\n",
              "</style>\n",
              "\n",
              "  <script>\n",
              "    async function quickchart(key) {\n",
              "      const quickchartButtonEl =\n",
              "        document.querySelector('#' + key + ' button');\n",
              "      quickchartButtonEl.disabled = true;  // To prevent multiple clicks.\n",
              "      quickchartButtonEl.classList.add('colab-df-spinner');\n",
              "      try {\n",
              "        const charts = await google.colab.kernel.invokeFunction(\n",
              "            'suggestCharts', [key], {});\n",
              "      } catch (error) {\n",
              "        console.error('Error during call to suggestCharts:', error);\n",
              "      }\n",
              "      quickchartButtonEl.classList.remove('colab-df-spinner');\n",
              "      quickchartButtonEl.classList.add('colab-df-quickchart-complete');\n",
              "    }\n",
              "    (() => {\n",
              "      let quickchartButtonEl =\n",
              "        document.querySelector('#df-a8329c9b-ce24-4a35-b2ab-5e75f9a7fb0d button');\n",
              "      quickchartButtonEl.style.display =\n",
              "        google.colab.kernel.accessAllowed ? 'block' : 'none';\n",
              "    })();\n",
              "  </script>\n",
              "</div>\n",
              "    </div>\n",
              "  </div>\n"
            ],
            "application/vnd.google.colaboratory.intrinsic+json": {
              "type": "dataframe",
              "variable_name": "drinks_data",
              "summary": "{\n  \"name\": \"drinks_data\",\n  \"rows\": 193,\n  \"fields\": [\n    {\n      \"column\": \"country\",\n      \"properties\": {\n        \"dtype\": \"string\",\n        \"num_unique_values\": 193,\n        \"samples\": [\n          \"Czech Republic\",\n          \"Qatar\",\n          \"Iceland\"\n        ],\n        \"semantic_type\": \"\",\n        \"description\": \"\"\n      }\n    },\n    {\n      \"column\": \"beer_servings\",\n      \"properties\": {\n        \"dtype\": \"number\",\n        \"std\": 101,\n        \"min\": 0,\n        \"max\": 376,\n        \"num_unique_values\": 130,\n        \"samples\": [\n          53,\n          32,\n          76\n        ],\n        \"semantic_type\": \"\",\n        \"description\": \"\"\n      }\n    },\n    {\n      \"column\": \"spirit_servings\",\n      \"properties\": {\n        \"dtype\": \"number\",\n        \"std\": 88,\n        \"min\": 0,\n        \"max\": 438,\n        \"num_unique_values\": 109,\n        \"samples\": [\n          200,\n          176,\n          128\n        ],\n        \"semantic_type\": \"\",\n        \"description\": \"\"\n      }\n    },\n    {\n      \"column\": \"wine_servings\",\n      \"properties\": {\n        \"dtype\": \"number\",\n        \"std\": 79,\n        \"min\": 0,\n        \"max\": 370,\n        \"num_unique_values\": 79,\n        \"samples\": [\n          26,\n          0,\n          172\n        ],\n        \"semantic_type\": \"\",\n        \"description\": \"\"\n      }\n    },\n    {\n      \"column\": \"total_litres_of_pure_alcohol\",\n      \"properties\": {\n        \"dtype\": \"number\",\n        \"std\": 3.773298164356083,\n        \"min\": 0.0,\n        \"max\": 14.4,\n        \"num_unique_values\": 90,\n        \"samples\": [\n          0.5,\n          4.3,\n          1.9\n        ],\n        \"semantic_type\": \"\",\n        \"description\": \"\"\n      }\n    }\n  ]\n}"
            }
          },
          "metadata": {},
          "execution_count": 6
        }
      ]
    },
    {
      "cell_type": "code",
      "source": [
        "# Проверка каждого столбца на наличие пропущенных значений\n",
        "for col in drinks_data.columns:\n",
        "    print(f'Пропущенные значения в столбце {col}:')\n",
        "    print(drinks_data[col].isnull().sum())\n",
        "    print()"
      ],
      "metadata": {
        "colab": {
          "base_uri": "https://localhost:8080/"
        },
        "id": "L0CpEdCEz7LM",
        "outputId": "adef9fbc-ed99-494c-b1ce-3f83b6b1d55b"
      },
      "execution_count": 126,
      "outputs": [
        {
          "output_type": "stream",
          "name": "stdout",
          "text": [
            "Пропущенные значения в столбце country:\n",
            "0\n",
            "\n",
            "Пропущенные значения в столбце beer_servings:\n",
            "0\n",
            "\n",
            "Пропущенные значения в столбце spirit_servings:\n",
            "0\n",
            "\n",
            "Пропущенные значения в столбце wine_servings:\n",
            "0\n",
            "\n",
            "Пропущенные значения в столбце total_litres_of_pure_alcohol:\n",
            "0\n",
            "\n"
          ]
        }
      ]
    },
    {
      "cell_type": "code",
      "source": [
        "country_groups = drinks_data.groupby('country')\n",
        "# Подсчитаем в каждой стране общее количество потребляемых напитков и отсортируем их в порядке убывания\n",
        "beer_servings_by_country = country_groups['beer_servings'].sum().sort_values(ascending=False)\n",
        "spirit_servings_by_country = country_groups['spirit_servings'].sum().sort_values(ascending=False)\n",
        "wine_servings_by_country = country_groups['wine_servings'].sum().sort_values(ascending=False)\n",
        "print(beer_servings_by_country, spirit_servings_by_country, wine_servings_by_country)"
      ],
      "metadata": {
        "colab": {
          "base_uri": "https://localhost:8080/"
        },
        "id": "gWjSy1EY0tju",
        "outputId": "b3e1edf7-eeef-4abc-a38f-3ba367c13e24"
      },
      "execution_count": 7,
      "outputs": [
        {
          "output_type": "stream",
          "name": "stdout",
          "text": [
            "country\n",
            "Namibia           376\n",
            "Czech Republic    361\n",
            "Gabon             347\n",
            "Germany           346\n",
            "Lithuania         343\n",
            "                 ... \n",
            "Kuwait              0\n",
            "Iran                0\n",
            "Cook Islands        0\n",
            "Bangladesh          0\n",
            "Libya               0\n",
            "Name: beer_servings, Length: 193, dtype: int64 country\n",
            "Grenada               438\n",
            "Belarus               373\n",
            "Haiti                 326\n",
            "Russian Federation    326\n",
            "St. Lucia             315\n",
            "                     ... \n",
            "Monaco                  0\n",
            "Nauru                   0\n",
            "North Korea             0\n",
            "Pakistan                0\n",
            "Libya                   0\n",
            "Name: spirit_servings, Length: 193, dtype: int64 country\n",
            "France          370\n",
            "Portugal        339\n",
            "Andorra         312\n",
            "Switzerland     280\n",
            "Denmark         278\n",
            "               ... \n",
            "Rwanda            0\n",
            "San Marino        0\n",
            "Saudi Arabia      0\n",
            "Somalia           0\n",
            "Libya             0\n",
            "Name: wine_servings, Length: 193, dtype: int64\n"
          ]
        }
      ]
    },
    {
      "cell_type": "code",
      "source": [
        "print(\"Страна с самым высоким потреблением пива:\")\n",
        "print(beer_servings_by_country.index[0])\n",
        "\n",
        "print(\"Страна с самым высоким потреблением крепких спиртных напитков:\")\n",
        "print(spirit_servings_by_country.index[0])\n",
        "\n",
        "print(\"Страна с самым высоким потреблением вина:\")\n",
        "print(wine_servings_by_country.index[0])"
      ],
      "metadata": {
        "colab": {
          "base_uri": "https://localhost:8080/"
        },
        "id": "UwaRoaUj7uQb",
        "outputId": "314325f8-377d-42f0-a895-49c980e65de4"
      },
      "execution_count": 9,
      "outputs": [
        {
          "output_type": "stream",
          "name": "stdout",
          "text": [
            "Страна с самым высоким потреблением пива:\n",
            "Namibia\n",
            "Страна с самым высоким потреблением крепких спиртных напитков:\n",
            "Grenada\n",
            "Страна с самым высоким потреблением вина:\n",
            "France\n"
          ]
        }
      ]
    },
    {
      "cell_type": "markdown",
      "source": [
        "ЗАДАНИЕ 3\n",
        "\n",
        "Определить:\n",
        "\n",
        "1) число проклятий, летальных исходов и их соотношение по фильмам\n",
        "\n",
        "2) частоту употребления конкретных проклятий\n",
        "\n",
        "3) распределение времени между проклятиями"
      ],
      "metadata": {
        "id": "SElThk2I95A-"
      }
    },
    {
      "cell_type": "code",
      "source": [
        "tarantino_data = pd.read_csv('/content/drive/MyDrive/WB/first_homework/tarantino.csv')\n",
        "tarantino_data"
      ],
      "metadata": {
        "colab": {
          "base_uri": "https://localhost:8080/",
          "height": 424
        },
        "id": "JyDGV9Yo8IlR",
        "outputId": "23211d71-78b2-4764-fc55-94ce7118406a"
      },
      "execution_count": 10,
      "outputs": [
        {
          "output_type": "execute_result",
          "data": {
            "text/plain": [
              "               movie   type          word  minutes_in\n",
              "0     Reservoir Dogs   word          dick        0.40\n",
              "1     Reservoir Dogs   word         dicks        0.43\n",
              "2     Reservoir Dogs   word        fucked        0.55\n",
              "3     Reservoir Dogs   word       fucking        0.61\n",
              "4     Reservoir Dogs   word      bullshit        0.61\n",
              "...              ...    ...           ...         ...\n",
              "1889    Jackie Brown   word  motherfucker      141.93\n",
              "1890    Jackie Brown   word           ass      142.43\n",
              "1891    Jackie Brown   word       fucking      142.47\n",
              "1892    Jackie Brown   word       goddamn      142.97\n",
              "1893    Jackie Brown  death           NaN      143.13\n",
              "\n",
              "[1894 rows x 4 columns]"
            ],
            "text/html": [
              "\n",
              "  <div id=\"df-1d60b70a-aaa3-41fe-a565-316183b68610\" class=\"colab-df-container\">\n",
              "    <div>\n",
              "<style scoped>\n",
              "    .dataframe tbody tr th:only-of-type {\n",
              "        vertical-align: middle;\n",
              "    }\n",
              "\n",
              "    .dataframe tbody tr th {\n",
              "        vertical-align: top;\n",
              "    }\n",
              "\n",
              "    .dataframe thead th {\n",
              "        text-align: right;\n",
              "    }\n",
              "</style>\n",
              "<table border=\"1\" class=\"dataframe\">\n",
              "  <thead>\n",
              "    <tr style=\"text-align: right;\">\n",
              "      <th></th>\n",
              "      <th>movie</th>\n",
              "      <th>type</th>\n",
              "      <th>word</th>\n",
              "      <th>minutes_in</th>\n",
              "    </tr>\n",
              "  </thead>\n",
              "  <tbody>\n",
              "    <tr>\n",
              "      <th>0</th>\n",
              "      <td>Reservoir Dogs</td>\n",
              "      <td>word</td>\n",
              "      <td>dick</td>\n",
              "      <td>0.40</td>\n",
              "    </tr>\n",
              "    <tr>\n",
              "      <th>1</th>\n",
              "      <td>Reservoir Dogs</td>\n",
              "      <td>word</td>\n",
              "      <td>dicks</td>\n",
              "      <td>0.43</td>\n",
              "    </tr>\n",
              "    <tr>\n",
              "      <th>2</th>\n",
              "      <td>Reservoir Dogs</td>\n",
              "      <td>word</td>\n",
              "      <td>fucked</td>\n",
              "      <td>0.55</td>\n",
              "    </tr>\n",
              "    <tr>\n",
              "      <th>3</th>\n",
              "      <td>Reservoir Dogs</td>\n",
              "      <td>word</td>\n",
              "      <td>fucking</td>\n",
              "      <td>0.61</td>\n",
              "    </tr>\n",
              "    <tr>\n",
              "      <th>4</th>\n",
              "      <td>Reservoir Dogs</td>\n",
              "      <td>word</td>\n",
              "      <td>bullshit</td>\n",
              "      <td>0.61</td>\n",
              "    </tr>\n",
              "    <tr>\n",
              "      <th>...</th>\n",
              "      <td>...</td>\n",
              "      <td>...</td>\n",
              "      <td>...</td>\n",
              "      <td>...</td>\n",
              "    </tr>\n",
              "    <tr>\n",
              "      <th>1889</th>\n",
              "      <td>Jackie Brown</td>\n",
              "      <td>word</td>\n",
              "      <td>motherfucker</td>\n",
              "      <td>141.93</td>\n",
              "    </tr>\n",
              "    <tr>\n",
              "      <th>1890</th>\n",
              "      <td>Jackie Brown</td>\n",
              "      <td>word</td>\n",
              "      <td>ass</td>\n",
              "      <td>142.43</td>\n",
              "    </tr>\n",
              "    <tr>\n",
              "      <th>1891</th>\n",
              "      <td>Jackie Brown</td>\n",
              "      <td>word</td>\n",
              "      <td>fucking</td>\n",
              "      <td>142.47</td>\n",
              "    </tr>\n",
              "    <tr>\n",
              "      <th>1892</th>\n",
              "      <td>Jackie Brown</td>\n",
              "      <td>word</td>\n",
              "      <td>goddamn</td>\n",
              "      <td>142.97</td>\n",
              "    </tr>\n",
              "    <tr>\n",
              "      <th>1893</th>\n",
              "      <td>Jackie Brown</td>\n",
              "      <td>death</td>\n",
              "      <td>NaN</td>\n",
              "      <td>143.13</td>\n",
              "    </tr>\n",
              "  </tbody>\n",
              "</table>\n",
              "<p>1894 rows × 4 columns</p>\n",
              "</div>\n",
              "    <div class=\"colab-df-buttons\">\n",
              "\n",
              "  <div class=\"colab-df-container\">\n",
              "    <button class=\"colab-df-convert\" onclick=\"convertToInteractive('df-1d60b70a-aaa3-41fe-a565-316183b68610')\"\n",
              "            title=\"Convert this dataframe to an interactive table.\"\n",
              "            style=\"display:none;\">\n",
              "\n",
              "  <svg xmlns=\"http://www.w3.org/2000/svg\" height=\"24px\" viewBox=\"0 -960 960 960\">\n",
              "    <path d=\"M120-120v-720h720v720H120Zm60-500h600v-160H180v160Zm220 220h160v-160H400v160Zm0 220h160v-160H400v160ZM180-400h160v-160H180v160Zm440 0h160v-160H620v160ZM180-180h160v-160H180v160Zm440 0h160v-160H620v160Z\"/>\n",
              "  </svg>\n",
              "    </button>\n",
              "\n",
              "  <style>\n",
              "    .colab-df-container {\n",
              "      display:flex;\n",
              "      gap: 12px;\n",
              "    }\n",
              "\n",
              "    .colab-df-convert {\n",
              "      background-color: #E8F0FE;\n",
              "      border: none;\n",
              "      border-radius: 50%;\n",
              "      cursor: pointer;\n",
              "      display: none;\n",
              "      fill: #1967D2;\n",
              "      height: 32px;\n",
              "      padding: 0 0 0 0;\n",
              "      width: 32px;\n",
              "    }\n",
              "\n",
              "    .colab-df-convert:hover {\n",
              "      background-color: #E2EBFA;\n",
              "      box-shadow: 0px 1px 2px rgba(60, 64, 67, 0.3), 0px 1px 3px 1px rgba(60, 64, 67, 0.15);\n",
              "      fill: #174EA6;\n",
              "    }\n",
              "\n",
              "    .colab-df-buttons div {\n",
              "      margin-bottom: 4px;\n",
              "    }\n",
              "\n",
              "    [theme=dark] .colab-df-convert {\n",
              "      background-color: #3B4455;\n",
              "      fill: #D2E3FC;\n",
              "    }\n",
              "\n",
              "    [theme=dark] .colab-df-convert:hover {\n",
              "      background-color: #434B5C;\n",
              "      box-shadow: 0px 1px 3px 1px rgba(0, 0, 0, 0.15);\n",
              "      filter: drop-shadow(0px 1px 2px rgba(0, 0, 0, 0.3));\n",
              "      fill: #FFFFFF;\n",
              "    }\n",
              "  </style>\n",
              "\n",
              "    <script>\n",
              "      const buttonEl =\n",
              "        document.querySelector('#df-1d60b70a-aaa3-41fe-a565-316183b68610 button.colab-df-convert');\n",
              "      buttonEl.style.display =\n",
              "        google.colab.kernel.accessAllowed ? 'block' : 'none';\n",
              "\n",
              "      async function convertToInteractive(key) {\n",
              "        const element = document.querySelector('#df-1d60b70a-aaa3-41fe-a565-316183b68610');\n",
              "        const dataTable =\n",
              "          await google.colab.kernel.invokeFunction('convertToInteractive',\n",
              "                                                    [key], {});\n",
              "        if (!dataTable) return;\n",
              "\n",
              "        const docLinkHtml = 'Like what you see? Visit the ' +\n",
              "          '<a target=\"_blank\" href=https://colab.research.google.com/notebooks/data_table.ipynb>data table notebook</a>'\n",
              "          + ' to learn more about interactive tables.';\n",
              "        element.innerHTML = '';\n",
              "        dataTable['output_type'] = 'display_data';\n",
              "        await google.colab.output.renderOutput(dataTable, element);\n",
              "        const docLink = document.createElement('div');\n",
              "        docLink.innerHTML = docLinkHtml;\n",
              "        element.appendChild(docLink);\n",
              "      }\n",
              "    </script>\n",
              "  </div>\n",
              "\n",
              "\n",
              "<div id=\"df-35a87391-fd6a-4d10-b753-d9ef3090e923\">\n",
              "  <button class=\"colab-df-quickchart\" onclick=\"quickchart('df-35a87391-fd6a-4d10-b753-d9ef3090e923')\"\n",
              "            title=\"Suggest charts\"\n",
              "            style=\"display:none;\">\n",
              "\n",
              "<svg xmlns=\"http://www.w3.org/2000/svg\" height=\"24px\"viewBox=\"0 0 24 24\"\n",
              "     width=\"24px\">\n",
              "    <g>\n",
              "        <path d=\"M19 3H5c-1.1 0-2 .9-2 2v14c0 1.1.9 2 2 2h14c1.1 0 2-.9 2-2V5c0-1.1-.9-2-2-2zM9 17H7v-7h2v7zm4 0h-2V7h2v10zm4 0h-2v-4h2v4z\"/>\n",
              "    </g>\n",
              "</svg>\n",
              "  </button>\n",
              "\n",
              "<style>\n",
              "  .colab-df-quickchart {\n",
              "      --bg-color: #E8F0FE;\n",
              "      --fill-color: #1967D2;\n",
              "      --hover-bg-color: #E2EBFA;\n",
              "      --hover-fill-color: #174EA6;\n",
              "      --disabled-fill-color: #AAA;\n",
              "      --disabled-bg-color: #DDD;\n",
              "  }\n",
              "\n",
              "  [theme=dark] .colab-df-quickchart {\n",
              "      --bg-color: #3B4455;\n",
              "      --fill-color: #D2E3FC;\n",
              "      --hover-bg-color: #434B5C;\n",
              "      --hover-fill-color: #FFFFFF;\n",
              "      --disabled-bg-color: #3B4455;\n",
              "      --disabled-fill-color: #666;\n",
              "  }\n",
              "\n",
              "  .colab-df-quickchart {\n",
              "    background-color: var(--bg-color);\n",
              "    border: none;\n",
              "    border-radius: 50%;\n",
              "    cursor: pointer;\n",
              "    display: none;\n",
              "    fill: var(--fill-color);\n",
              "    height: 32px;\n",
              "    padding: 0;\n",
              "    width: 32px;\n",
              "  }\n",
              "\n",
              "  .colab-df-quickchart:hover {\n",
              "    background-color: var(--hover-bg-color);\n",
              "    box-shadow: 0 1px 2px rgba(60, 64, 67, 0.3), 0 1px 3px 1px rgba(60, 64, 67, 0.15);\n",
              "    fill: var(--button-hover-fill-color);\n",
              "  }\n",
              "\n",
              "  .colab-df-quickchart-complete:disabled,\n",
              "  .colab-df-quickchart-complete:disabled:hover {\n",
              "    background-color: var(--disabled-bg-color);\n",
              "    fill: var(--disabled-fill-color);\n",
              "    box-shadow: none;\n",
              "  }\n",
              "\n",
              "  .colab-df-spinner {\n",
              "    border: 2px solid var(--fill-color);\n",
              "    border-color: transparent;\n",
              "    border-bottom-color: var(--fill-color);\n",
              "    animation:\n",
              "      spin 1s steps(1) infinite;\n",
              "  }\n",
              "\n",
              "  @keyframes spin {\n",
              "    0% {\n",
              "      border-color: transparent;\n",
              "      border-bottom-color: var(--fill-color);\n",
              "      border-left-color: var(--fill-color);\n",
              "    }\n",
              "    20% {\n",
              "      border-color: transparent;\n",
              "      border-left-color: var(--fill-color);\n",
              "      border-top-color: var(--fill-color);\n",
              "    }\n",
              "    30% {\n",
              "      border-color: transparent;\n",
              "      border-left-color: var(--fill-color);\n",
              "      border-top-color: var(--fill-color);\n",
              "      border-right-color: var(--fill-color);\n",
              "    }\n",
              "    40% {\n",
              "      border-color: transparent;\n",
              "      border-right-color: var(--fill-color);\n",
              "      border-top-color: var(--fill-color);\n",
              "    }\n",
              "    60% {\n",
              "      border-color: transparent;\n",
              "      border-right-color: var(--fill-color);\n",
              "    }\n",
              "    80% {\n",
              "      border-color: transparent;\n",
              "      border-right-color: var(--fill-color);\n",
              "      border-bottom-color: var(--fill-color);\n",
              "    }\n",
              "    90% {\n",
              "      border-color: transparent;\n",
              "      border-bottom-color: var(--fill-color);\n",
              "    }\n",
              "  }\n",
              "</style>\n",
              "\n",
              "  <script>\n",
              "    async function quickchart(key) {\n",
              "      const quickchartButtonEl =\n",
              "        document.querySelector('#' + key + ' button');\n",
              "      quickchartButtonEl.disabled = true;  // To prevent multiple clicks.\n",
              "      quickchartButtonEl.classList.add('colab-df-spinner');\n",
              "      try {\n",
              "        const charts = await google.colab.kernel.invokeFunction(\n",
              "            'suggestCharts', [key], {});\n",
              "      } catch (error) {\n",
              "        console.error('Error during call to suggestCharts:', error);\n",
              "      }\n",
              "      quickchartButtonEl.classList.remove('colab-df-spinner');\n",
              "      quickchartButtonEl.classList.add('colab-df-quickchart-complete');\n",
              "    }\n",
              "    (() => {\n",
              "      let quickchartButtonEl =\n",
              "        document.querySelector('#df-35a87391-fd6a-4d10-b753-d9ef3090e923 button');\n",
              "      quickchartButtonEl.style.display =\n",
              "        google.colab.kernel.accessAllowed ? 'block' : 'none';\n",
              "    })();\n",
              "  </script>\n",
              "</div>\n",
              "    </div>\n",
              "  </div>\n"
            ],
            "application/vnd.google.colaboratory.intrinsic+json": {
              "type": "dataframe",
              "variable_name": "tarantino_data",
              "summary": "{\n  \"name\": \"tarantino_data\",\n  \"rows\": 1894,\n  \"fields\": [\n    {\n      \"column\": \"movie\",\n      \"properties\": {\n        \"dtype\": \"category\",\n        \"num_unique_values\": 7,\n        \"samples\": [\n          \"Reservoir Dogs\",\n          \"Pulp Fiction\",\n          \"Django Unchained\"\n        ],\n        \"semantic_type\": \"\",\n        \"description\": \"\"\n      }\n    },\n    {\n      \"column\": \"type\",\n      \"properties\": {\n        \"dtype\": \"category\",\n        \"num_unique_values\": 2,\n        \"samples\": [\n          \"death\",\n          \"word\"\n        ],\n        \"semantic_type\": \"\",\n        \"description\": \"\"\n      }\n    },\n    {\n      \"column\": \"word\",\n      \"properties\": {\n        \"dtype\": \"category\",\n        \"num_unique_values\": 60,\n        \"samples\": [\n          \"dick\",\n          \"fuck\"\n        ],\n        \"semantic_type\": \"\",\n        \"description\": \"\"\n      }\n    },\n    {\n      \"column\": \"minutes_in\",\n      \"properties\": {\n        \"dtype\": \"number\",\n        \"std\": 45.075035844685026,\n        \"min\": 0.4,\n        \"max\": 160.45,\n        \"num_unique_values\": 1690,\n        \"samples\": [\n          85.4,\n          124.97\n        ],\n        \"semantic_type\": \"\",\n        \"description\": \"\"\n      }\n    }\n  ]\n}"
            }
          },
          "metadata": {},
          "execution_count": 10
        }
      ]
    },
    {
      "cell_type": "code",
      "source": [
        "# Проверка каждого столбца на наличие пропущенных значений\n",
        "for col in tarantino_data.columns:\n",
        "    print(f'Пропущенные значения в столбце {col}:')\n",
        "    print(tarantino_data[col].isna().sum())\n",
        "    print()"
      ],
      "metadata": {
        "colab": {
          "base_uri": "https://localhost:8080/"
        },
        "id": "vuPpGqZy-goJ",
        "outputId": "d0e511a7-e79f-4d44-b8c3-a644d746e8b7"
      },
      "execution_count": 163,
      "outputs": [
        {
          "output_type": "stream",
          "name": "stdout",
          "text": [
            "Пропущенные значения в столбце movie:\n",
            "0\n",
            "\n",
            "Пропущенные значения в столбце type:\n",
            "0\n",
            "\n",
            "Пропущенные значения в столбце word:\n",
            "190\n",
            "\n",
            "Пропущенные значения в столбце minutes_in:\n",
            "0\n",
            "\n"
          ]
        }
      ]
    },
    {
      "cell_type": "code",
      "source": [
        "type_unique = tarantino_data['type'].unique()\n",
        "type_unique"
      ],
      "metadata": {
        "colab": {
          "base_uri": "https://localhost:8080/"
        },
        "id": "iJHrsEbeEpHA",
        "outputId": "3c77cc2e-dcfe-441e-e3f4-709f2cdc5a91"
      },
      "execution_count": 172,
      "outputs": [
        {
          "output_type": "execute_result",
          "data": {
            "text/plain": [
              "array(['word', 'death'], dtype=object)"
            ]
          },
          "metadata": {},
          "execution_count": 172
        }
      ]
    },
    {
      "cell_type": "code",
      "source": [
        "movie_groups = tarantino_data.groupby('movie')\n",
        "\n",
        "# Подсчитаем количество проклятий и смертей в каждом фильме\n",
        "num_curses_by_movie = movie_groups['type'].apply(lambda x: x[x == 'word'].count())\n",
        "num_deaths_by_movie = movie_groups['type'].apply(lambda x: x[x == 'death'].count())\n",
        "print(\"Количество проклятий в фильмах:\\n\", num_curses_by_movie)\n",
        "print(\"\\nКоличество смертей в фильмах:\\n\", num_deaths_by_movie)"
      ],
      "metadata": {
        "colab": {
          "base_uri": "https://localhost:8080/"
        },
        "id": "DVMjXhBpDQeb",
        "outputId": "0923b402-5211-41bd-d45a-c979be96d53f"
      },
      "execution_count": 11,
      "outputs": [
        {
          "output_type": "stream",
          "name": "stdout",
          "text": [
            "Количество проклятий в фильмах:\n",
            " movie\n",
            "Django Unchained       262\n",
            "Inglorious Basterds     58\n",
            "Jackie Brown           368\n",
            "Kill Bill: Vol. 1       57\n",
            "Kill Bill: Vol. 2       69\n",
            "Pulp Fiction           469\n",
            "Reservoir Dogs         421\n",
            "Name: type, dtype: int64\n",
            "\n",
            "Количество смертей в фильмах:\n",
            " movie\n",
            "Django Unchained       47\n",
            "Inglorious Basterds    48\n",
            "Jackie Brown            4\n",
            "Kill Bill: Vol. 1      63\n",
            "Kill Bill: Vol. 2      11\n",
            "Pulp Fiction            7\n",
            "Reservoir Dogs         10\n",
            "Name: type, dtype: int64\n"
          ]
        }
      ]
    },
    {
      "cell_type": "code",
      "source": [
        "# Частота употребления конкретных проклятий\n",
        "reset_index_num_words = tarantino_data['word'].value_counts().reset_index()\n",
        "print(reset_index_num_words)\n",
        "for word, val_ in zip(reset_index_num_words['word'], reset_index_num_words['count']):\n",
        "  print(f'Частота упортебления проклятия {word}: {round(val_ / tarantino_data[\"word\"].count()*100, 3)}%')"
      ],
      "metadata": {
        "colab": {
          "base_uri": "https://localhost:8080/"
        },
        "id": "JpI9sGGuD3gW",
        "outputId": "e316080c-2ebd-492d-e18c-67138909a992"
      },
      "execution_count": 12,
      "outputs": [
        {
          "output_type": "stream",
          "name": "stdout",
          "text": [
            "             word  count\n",
            "0         fucking    407\n",
            "1            shit    221\n",
            "2            fuck    213\n",
            "3         n-word     179\n",
            "4             ass    140\n",
            "5         goddamn    113\n",
            "6    motherfucker     70\n",
            "7           bitch     64\n",
            "8            hell     45\n",
            "9            damn     37\n",
            "10  motherfucking     27\n",
            "11         fucked     25\n",
            "12       bullshit     15\n",
            "13  motherfuckers     15\n",
            "14           dick     14\n",
            "15          pussy     11\n",
            "16        asshole     10\n",
            "17        bastard     10\n",
            "18        bitches      9\n",
            "19         fucker      8\n",
            "20       assholes      5\n",
            "21         negro       5\n",
            "22          dicks      5\n",
            "23          asses      4\n",
            "24         shitty      4\n",
            "25         damned      3\n",
            "26          fucks      3\n",
            "27       shithead      3\n",
            "28      horseshit      2\n",
            "29          gooks      2\n",
            "30           japs      2\n",
            "31           cunt      2\n",
            "32       shitload      2\n",
            "33     cocksucker      2\n",
            "34        wetback      2\n",
            "35        fuckers      1\n",
            "36       horeshit      1\n",
            "37            jap      1\n",
            "38      shittiest      1\n",
            "39         fuckup      1\n",
            "40        jackass      1\n",
            "41      goddamned      1\n",
            "42           slut      1\n",
            "43          squaw      1\n",
            "44        asshead      1\n",
            "45       shitting      1\n",
            "46       shitless      1\n",
            "47       bastards      1\n",
            "48       dickless      1\n",
            "49     jew (verb)      1\n",
            "50   cockblockery      1\n",
            "51       fuckface      1\n",
            "52          cunts      1\n",
            "53         faggot      1\n",
            "54           gook      1\n",
            "55          merde      1\n",
            "56       fuckhead      1\n",
            "57          slope      1\n",
            "58    chickenshit      1\n",
            "59        dumbass      1\n",
            "Частота упортебления проклятия fucking: 23.885%\n",
            "Частота упортебления проклятия shit: 12.969%\n",
            "Частота упортебления проклятия fuck: 12.5%\n",
            "Частота упортебления проклятия n-word : 10.505%\n",
            "Частота упортебления проклятия ass: 8.216%\n",
            "Частота упортебления проклятия goddamn: 6.631%\n",
            "Частота упортебления проклятия motherfucker: 4.108%\n",
            "Частота упортебления проклятия bitch: 3.756%\n",
            "Частота упортебления проклятия hell: 2.641%\n",
            "Частота упортебления проклятия damn: 2.171%\n",
            "Частота упортебления проклятия motherfucking: 1.585%\n",
            "Частота упортебления проклятия fucked: 1.467%\n",
            "Частота упортебления проклятия bullshit: 0.88%\n",
            "Частота упортебления проклятия motherfuckers: 0.88%\n",
            "Частота упортебления проклятия dick: 0.822%\n",
            "Частота упортебления проклятия pussy: 0.646%\n",
            "Частота упортебления проклятия asshole: 0.587%\n",
            "Частота упортебления проклятия bastard: 0.587%\n",
            "Частота упортебления проклятия bitches: 0.528%\n",
            "Частота упортебления проклятия fucker: 0.469%\n",
            "Частота упортебления проклятия assholes: 0.293%\n",
            "Частота упортебления проклятия negro : 0.293%\n",
            "Частота упортебления проклятия dicks: 0.293%\n",
            "Частота упортебления проклятия asses: 0.235%\n",
            "Частота упортебления проклятия shitty: 0.235%\n",
            "Частота упортебления проклятия damned: 0.176%\n",
            "Частота упортебления проклятия fucks: 0.176%\n",
            "Частота упортебления проклятия shithead: 0.176%\n",
            "Частота упортебления проклятия horseshit: 0.117%\n",
            "Частота упортебления проклятия gooks: 0.117%\n",
            "Частота упортебления проклятия japs: 0.117%\n",
            "Частота упортебления проклятия cunt: 0.117%\n",
            "Частота упортебления проклятия shitload: 0.117%\n",
            "Частота упортебления проклятия cocksucker: 0.117%\n",
            "Частота упортебления проклятия wetback: 0.117%\n",
            "Частота упортебления проклятия fuckers: 0.059%\n",
            "Частота упортебления проклятия horeshit: 0.059%\n",
            "Частота упортебления проклятия jap: 0.059%\n",
            "Частота упортебления проклятия shittiest: 0.059%\n",
            "Частота упортебления проклятия fuckup: 0.059%\n",
            "Частота упортебления проклятия jackass: 0.059%\n",
            "Частота упортебления проклятия goddamned: 0.059%\n",
            "Частота упортебления проклятия slut: 0.059%\n",
            "Частота упортебления проклятия squaw: 0.059%\n",
            "Частота упортебления проклятия asshead: 0.059%\n",
            "Частота упортебления проклятия shitting: 0.059%\n",
            "Частота упортебления проклятия shitless: 0.059%\n",
            "Частота упортебления проклятия bastards: 0.059%\n",
            "Частота упортебления проклятия dickless: 0.059%\n",
            "Частота упортебления проклятия jew (verb): 0.059%\n",
            "Частота упортебления проклятия cockblockery: 0.059%\n",
            "Частота упортебления проклятия fuckface: 0.059%\n",
            "Частота упортебления проклятия cunts: 0.059%\n",
            "Частота упортебления проклятия faggot: 0.059%\n",
            "Частота упортебления проклятия gook: 0.059%\n",
            "Частота упортебления проклятия merde: 0.059%\n",
            "Частота упортебления проклятия fuckhead: 0.059%\n",
            "Частота упортебления проклятия slope: 0.059%\n",
            "Частота упортебления проклятия chickenshit: 0.059%\n",
            "Частота упортебления проклятия dumbass: 0.059%\n"
          ]
        }
      ]
    },
    {
      "cell_type": "code",
      "source": [
        "# Создадим копию, чтобы не изменять исходные данные\n",
        "copy_tarantino_data = tarantino_data.copy()"
      ],
      "metadata": {
        "id": "9gWKgnQ-F929"
      },
      "execution_count": 193,
      "outputs": []
    },
    {
      "cell_type": "code",
      "source": [
        "# Удалим все строчки, где упомниемтся death в столбце type, потому что нам нужно узнать время только между проклятиями\n",
        "copy_tarantino_data = copy_tarantino_data[copy_tarantino_data['type'] != 'death']"
      ],
      "metadata": {
        "id": "5NJ0E4-UKjo-"
      },
      "execution_count": 196,
      "outputs": []
    },
    {
      "cell_type": "code",
      "source": [
        "# Проверка каждого столбца на наличие пропущенных значений\n",
        "for col in copy_tarantino_data.columns:\n",
        "    print(f'Пропущенные значения в столбце {col}:')\n",
        "    print(copy_tarantino_data[col].isna().sum())\n",
        "    print()"
      ],
      "metadata": {
        "colab": {
          "base_uri": "https://localhost:8080/"
        },
        "id": "br5LuahMKySH",
        "outputId": "1e59e3ff-85d9-4e9c-ff24-57fa847be7b6"
      },
      "execution_count": 199,
      "outputs": [
        {
          "output_type": "stream",
          "name": "stdout",
          "text": [
            "Пропущенные значения в столбце movie:\n",
            "0\n",
            "\n",
            "Пропущенные значения в столбце type:\n",
            "0\n",
            "\n",
            "Пропущенные значения в столбце word:\n",
            "0\n",
            "\n",
            "Пропущенные значения в столбце minutes_in:\n",
            "0\n",
            "\n"
          ]
        }
      ]
    },
    {
      "cell_type": "markdown",
      "source": [
        "Таким образом мы избавились от пропущенных значений в столбце word. Это само по себе логично, так как у death не можеть быть какого-либо слова. Оно может быть только у проклятия"
      ],
      "metadata": {
        "id": "LAhHOzscLRPs"
      }
    },
    {
      "cell_type": "code",
      "source": [
        "# Вычислим разницу во времени между каждым проклятием\n",
        "import math\n",
        "time_between_words = copy_tarantino_data[copy_tarantino_data['type'] == 'word']['minutes_in'].sort_values().diff()\n",
        "# Применим формулу Стёрджеса для подбора оптимального количества интревалов: n = 1 + [log_2(N)]\n",
        "#count_bins = 1 + int(math.log2(time_between_words.count()))\n",
        "#закомментировал формулу выше, потому что получается ненаглядно ;)\n",
        "# по видимому, это потому, что данные (интервалы между проклятиями) не распределены нормально\n",
        "# Построим гистограмму времени между проклятиями\n",
        "plt.hist(time_between_words, bins=30)\n",
        "plt.xlabel(\"Время между проклятиями (минуты)\")\n",
        "plt.ylabel(\"Частота\")\n",
        "plt.title(\"Распределение времени между проклятиями\")\n",
        "plt.show()\n"
      ],
      "metadata": {
        "colab": {
          "base_uri": "https://localhost:8080/",
          "height": 472
        },
        "id": "ZTG1ePheLHQw",
        "outputId": "ac71532a-c5fe-4cf1-fbd0-0b538abf2a78"
      },
      "execution_count": 218,
      "outputs": [
        {
          "output_type": "display_data",
          "data": {
            "text/plain": [
              "<Figure size 640x480 with 1 Axes>"
            ],
            "image/png": "[encoded data removed]"
          },
          "metadata": {}
        }
      ]
    },
    {
      "cell_type": "markdown",
      "source": [
        "Как видно из графика выше, в фильмах Тарантино очень часто ругаются :D. В основном между проклятиями проходит 0 - 10 секунд. Намного реже 10 - 20 и еще реже 20 - 30 секунд"
      ],
      "metadata": {
        "id": "i-vb9dGmYGee"
      }
    },
    {
      "cell_type": "code",
      "source": [],
      "metadata": {
        "id": "ZIYiFOBMLwQ8"
      },
      "execution_count": null,
      "outputs": []
    }
  ]
}